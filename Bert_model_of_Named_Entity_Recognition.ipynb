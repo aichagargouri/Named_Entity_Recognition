{
  "cells": [
    {
      "cell_type": "markdown",
      "metadata": {
        "id": "uexeLQG8I2RA"
      },
      "source": [
        "#Installing the transformers library\n"
      ]
    },
    {
      "cell_type": "code",
      "execution_count": null,
      "metadata": {
        "colab": {
          "base_uri": "https://localhost:8080/"
        },
        "id": "1139XjbtP-H3",
        "outputId": "689c425c-9e18-4f1a-9b12-cc2350af0d17"
      },
      "outputs": [
        {
          "name": "stdout",
          "output_type": "stream",
          "text": [
            "Requirement already satisfied: transformers in /usr/local/lib/python3.10/dist-packages (4.35.2)\n",
            "Requirement already satisfied: filelock in /usr/local/lib/python3.10/dist-packages (from transformers) (3.13.1)\n",
            "Requirement already satisfied: huggingface-hub<1.0,>=0.16.4 in /usr/local/lib/python3.10/dist-packages (from transformers) (0.20.3)\n",
            "Requirement already satisfied: numpy>=1.17 in /usr/local/lib/python3.10/dist-packages (from transformers) (1.23.5)\n",
            "Requirement already satisfied: packaging>=20.0 in /usr/local/lib/python3.10/dist-packages (from transformers) (23.2)\n",
            "Requirement already satisfied: pyyaml>=5.1 in /usr/local/lib/python3.10/dist-packages (from transformers) (6.0.1)\n",
            "Requirement already satisfied: regex!=2019.12.17 in /usr/local/lib/python3.10/dist-packages (from transformers) (2023.6.3)\n",
            "Requirement already satisfied: requests in /usr/local/lib/python3.10/dist-packages (from transformers) (2.31.0)\n",
            "Requirement already satisfied: tokenizers<0.19,>=0.14 in /usr/local/lib/python3.10/dist-packages (from transformers) (0.15.1)\n",
            "Requirement already satisfied: safetensors>=0.3.1 in /usr/local/lib/python3.10/dist-packages (from transformers) (0.4.2)\n",
            "Requirement already satisfied: tqdm>=4.27 in /usr/local/lib/python3.10/dist-packages (from transformers) (4.66.1)\n",
            "Requirement already satisfied: fsspec>=2023.5.0 in /usr/local/lib/python3.10/dist-packages (from huggingface-hub<1.0,>=0.16.4->transformers) (2023.6.0)\n",
            "Requirement already satisfied: typing-extensions>=3.7.4.3 in /usr/local/lib/python3.10/dist-packages (from huggingface-hub<1.0,>=0.16.4->transformers) (4.5.0)\n",
            "Requirement already satisfied: charset-normalizer<4,>=2 in /usr/local/lib/python3.10/dist-packages (from requests->transformers) (3.3.2)\n",
            "Requirement already satisfied: idna<4,>=2.5 in /usr/local/lib/python3.10/dist-packages (from requests->transformers) (3.6)\n",
            "Requirement already satisfied: urllib3<3,>=1.21.1 in /usr/local/lib/python3.10/dist-packages (from requests->transformers) (2.0.7)\n",
            "Requirement already satisfied: certifi>=2017.4.17 in /usr/local/lib/python3.10/dist-packages (from requests->transformers) (2023.11.17)\n"
          ]
        }
      ],
      "source": [
        "!pip install transformers"
      ]
    },
    {
      "cell_type": "markdown",
      "metadata": {
        "id": "FszdMAU6JWb8"
      },
      "source": [
        "#Text preprocessing and nlp imports"
      ]
    },
    {
      "cell_type": "code",
      "execution_count": null,
      "metadata": {
        "colab": {
          "base_uri": "https://localhost:8080/"
        },
        "id": "l5FEru9Xs7zb",
        "outputId": "44b00050-a744-4f1b-8d89-40cb247300b7"
      },
      "outputs": [
        {
          "name": "stderr",
          "output_type": "stream",
          "text": [
            "[nltk_data] Downloading package punkt to /root/nltk_data...\n",
            "[nltk_data]   Package punkt is already up-to-date!\n",
            "[nltk_data] Downloading package stopwords to /root/nltk_data...\n",
            "[nltk_data]   Package stopwords is already up-to-date!\n"
          ]
        },
        {
          "data": {
            "text/plain": [
              "True"
            ]
          },
          "execution_count": 32,
          "metadata": {},
          "output_type": "execute_result"
        }
      ],
      "source": [
        "import numpy as np\n",
        "import pandas as pd\n",
        "import nltk\n",
        "import spacy\n",
        "import re\n",
        "from spacy.tokens import Doc, Span\n",
        "from sklearn.model_selection import train_test_split\n",
        "from sklearn.metrics import classification_report, confusion_matrix, ConfusionMatrixDisplay\n",
        "import tensorflow as tf\n",
        "nltk.download('punkt')\n",
        "nltk.download('stopwords')\n",
        "\n"
      ]
    },
    {
      "cell_type": "markdown",
      "metadata": {
        "id": "CdC-_x4uKLjf"
      },
      "source": [
        "#Arabic language model loading and text loading"
      ]
    },
    {
      "cell_type": "code",
      "execution_count": null,
      "metadata": {
        "colab": {
          "base_uri": "https://localhost:8080/",
          "height": 677
        },
        "id": "WFhgZzo2tB_K",
        "outputId": "fa59d7e5-d6a2-4c00-9bb0-64ca6e3a8579"
      },
      "outputs": [
        {
          "data": {
            "text/html": [
              "\n",
              "  <div id=\"df-bb0c33b2-ac6c-4062-a02c-def152b00caf\" class=\"colab-df-container\">\n",
              "    <div>\n",
              "<style scoped>\n",
              "    .dataframe tbody tr th:only-of-type {\n",
              "        vertical-align: middle;\n",
              "    }\n",
              "\n",
              "    .dataframe tbody tr th {\n",
              "        vertical-align: top;\n",
              "    }\n",
              "\n",
              "    .dataframe thead th {\n",
              "        text-align: right;\n",
              "    }\n",
              "</style>\n",
              "<table border=\"1\" class=\"dataframe\">\n",
              "  <thead>\n",
              "    <tr style=\"text-align: right;\">\n",
              "      <th></th>\n",
              "      <th>Unnamed: 0</th>\n",
              "      <th>Sentence</th>\n",
              "      <th>Token</th>\n",
              "      <th>Tag</th>\n",
              "    </tr>\n",
              "  </thead>\n",
              "  <tbody>\n",
              "    <tr>\n",
              "      <th>0</th>\n",
              "      <td>0</td>\n",
              "      <td>0</td>\n",
              "      <td>Uppsala</td>\n",
              "      <td>B-LOC</td>\n",
              "    </tr>\n",
              "    <tr>\n",
              "      <th>1</th>\n",
              "      <td>1</td>\n",
              "      <td>0</td>\n",
              "      <td>)</td>\n",
              "      <td>O</td>\n",
              "    </tr>\n",
              "    <tr>\n",
              "      <th>2</th>\n",
              "      <td>2</td>\n",
              "      <td>0</td>\n",
              "      <td>هيّا</td>\n",
              "      <td>O</td>\n",
              "    </tr>\n",
              "    <tr>\n",
              "      <th>3</th>\n",
              "      <td>3</td>\n",
              "      <td>0</td>\n",
              "      <td>رابع</td>\n",
              "      <td>O</td>\n",
              "    </tr>\n",
              "    <tr>\n",
              "      <th>4</th>\n",
              "      <td>4</td>\n",
              "      <td>0</td>\n",
              "      <td>أكبر</td>\n",
              "      <td>O</td>\n",
              "    </tr>\n",
              "    <tr>\n",
              "      <th>5</th>\n",
              "      <td>5</td>\n",
              "      <td>0</td>\n",
              "      <td>مدينة</td>\n",
              "      <td>O</td>\n",
              "    </tr>\n",
              "    <tr>\n",
              "      <th>6</th>\n",
              "      <td>6</td>\n",
              "      <td>0</td>\n",
              "      <td>ف</td>\n",
              "      <td>O</td>\n",
              "    </tr>\n",
              "    <tr>\n",
              "      <th>7</th>\n",
              "      <td>7</td>\n",
              "      <td>0</td>\n",
              "      <td>سّويد</td>\n",
              "      <td>B-LOC</td>\n",
              "    </tr>\n",
              "    <tr>\n",
              "      <th>8</th>\n",
              "      <td>8</td>\n",
              "      <td>0</td>\n",
              "      <td>من</td>\n",
              "      <td>O</td>\n",
              "    </tr>\n",
              "    <tr>\n",
              "      <th>9</th>\n",
              "      <td>9</td>\n",
              "      <td>0</td>\n",
              "      <td>بعد</td>\n",
              "      <td>O</td>\n",
              "    </tr>\n",
              "    <tr>\n",
              "      <th>10</th>\n",
              "      <td>10</td>\n",
              "      <td>0</td>\n",
              "      <td>سطوكهولم</td>\n",
              "      <td>B-LOC</td>\n",
              "    </tr>\n",
              "    <tr>\n",
              "      <th>11</th>\n",
              "      <td>11</td>\n",
              "      <td>0</td>\n",
              "      <td>،</td>\n",
              "      <td>O</td>\n",
              "    </tr>\n",
              "    <tr>\n",
              "      <th>12</th>\n",
              "      <td>12</td>\n",
              "      <td>0</td>\n",
              "      <td>ݣوتنبورݣ</td>\n",
              "      <td>B-LOC</td>\n",
              "    </tr>\n",
              "    <tr>\n",
              "      <th>13</th>\n",
              "      <td>13</td>\n",
              "      <td>0</td>\n",
              "      <td>ؤ</td>\n",
              "      <td>O</td>\n",
              "    </tr>\n",
              "    <tr>\n",
              "      <th>14</th>\n",
              "      <td>14</td>\n",
              "      <td>0</td>\n",
              "      <td>مالمو</td>\n",
              "      <td>B-LOC</td>\n",
              "    </tr>\n",
              "    <tr>\n",
              "      <th>15</th>\n",
              "      <td>15</td>\n",
              "      <td>0</td>\n",
              "      <td>.</td>\n",
              "      <td>O</td>\n",
              "    </tr>\n",
              "    <tr>\n",
              "      <th>16</th>\n",
              "      <td>16</td>\n",
              "      <td>1</td>\n",
              "      <td>ف</td>\n",
              "      <td>O</td>\n",
              "    </tr>\n",
              "    <tr>\n",
              "      <th>17</th>\n",
              "      <td>17</td>\n",
              "      <td>1</td>\n",
              "      <td>2018</td>\n",
              "      <td>O</td>\n",
              "    </tr>\n",
              "    <tr>\n",
              "      <th>18</th>\n",
              "      <td>18</td>\n",
              "      <td>1</td>\n",
              "      <td>كان</td>\n",
              "      <td>O</td>\n",
              "    </tr>\n",
              "    <tr>\n",
              "      <th>19</th>\n",
              "      <td>19</td>\n",
              "      <td>1</td>\n",
              "      <td>عدد</td>\n",
              "      <td>O</td>\n",
              "    </tr>\n",
              "  </tbody>\n",
              "</table>\n",
              "</div>\n",
              "    <div class=\"colab-df-buttons\">\n",
              "\n",
              "  <div class=\"colab-df-container\">\n",
              "    <button class=\"colab-df-convert\" onclick=\"convertToInteractive('df-bb0c33b2-ac6c-4062-a02c-def152b00caf')\"\n",
              "            title=\"Convert this dataframe to an interactive table.\"\n",
              "            style=\"display:none;\">\n",
              "\n",
              "  <svg xmlns=\"http://www.w3.org/2000/svg\" height=\"24px\" viewBox=\"0 -960 960 960\">\n",
              "    <path d=\"M120-120v-720h720v720H120Zm60-500h600v-160H180v160Zm220 220h160v-160H400v160Zm0 220h160v-160H400v160ZM180-400h160v-160H180v160Zm440 0h160v-160H620v160ZM180-180h160v-160H180v160Zm440 0h160v-160H620v160Z\"/>\n",
              "  </svg>\n",
              "    </button>\n",
              "\n",
              "  <style>\n",
              "    .colab-df-container {\n",
              "      display:flex;\n",
              "      gap: 12px;\n",
              "    }\n",
              "\n",
              "    .colab-df-convert {\n",
              "      background-color: #E8F0FE;\n",
              "      border: none;\n",
              "      border-radius: 50%;\n",
              "      cursor: pointer;\n",
              "      display: none;\n",
              "      fill: #1967D2;\n",
              "      height: 32px;\n",
              "      padding: 0 0 0 0;\n",
              "      width: 32px;\n",
              "    }\n",
              "\n",
              "    .colab-df-convert:hover {\n",
              "      background-color: #E2EBFA;\n",
              "      box-shadow: 0px 1px 2px rgba(60, 64, 67, 0.3), 0px 1px 3px 1px rgba(60, 64, 67, 0.15);\n",
              "      fill: #174EA6;\n",
              "    }\n",
              "\n",
              "    .colab-df-buttons div {\n",
              "      margin-bottom: 4px;\n",
              "    }\n",
              "\n",
              "    [theme=dark] .colab-df-convert {\n",
              "      background-color: #3B4455;\n",
              "      fill: #D2E3FC;\n",
              "    }\n",
              "\n",
              "    [theme=dark] .colab-df-convert:hover {\n",
              "      background-color: #434B5C;\n",
              "      box-shadow: 0px 1px 3px 1px rgba(0, 0, 0, 0.15);\n",
              "      filter: drop-shadow(0px 1px 2px rgba(0, 0, 0, 0.3));\n",
              "      fill: #FFFFFF;\n",
              "    }\n",
              "  </style>\n",
              "\n",
              "    <script>\n",
              "      const buttonEl =\n",
              "        document.querySelector('#df-bb0c33b2-ac6c-4062-a02c-def152b00caf button.colab-df-convert');\n",
              "      buttonEl.style.display =\n",
              "        google.colab.kernel.accessAllowed ? 'block' : 'none';\n",
              "\n",
              "      async function convertToInteractive(key) {\n",
              "        const element = document.querySelector('#df-bb0c33b2-ac6c-4062-a02c-def152b00caf');\n",
              "        const dataTable =\n",
              "          await google.colab.kernel.invokeFunction('convertToInteractive',\n",
              "                                                    [key], {});\n",
              "        if (!dataTable) return;\n",
              "\n",
              "        const docLinkHtml = 'Like what you see? Visit the ' +\n",
              "          '<a target=\"_blank\" href=https://colab.research.google.com/notebooks/data_table.ipynb>data table notebook</a>'\n",
              "          + ' to learn more about interactive tables.';\n",
              "        element.innerHTML = '';\n",
              "        dataTable['output_type'] = 'display_data';\n",
              "        await google.colab.output.renderOutput(dataTable, element);\n",
              "        const docLink = document.createElement('div');\n",
              "        docLink.innerHTML = docLinkHtml;\n",
              "        element.appendChild(docLink);\n",
              "      }\n",
              "    </script>\n",
              "  </div>\n",
              "\n",
              "\n",
              "<div id=\"df-b132799a-bb70-4a6b-9312-a4597a2d4eb8\">\n",
              "  <button class=\"colab-df-quickchart\" onclick=\"quickchart('df-b132799a-bb70-4a6b-9312-a4597a2d4eb8')\"\n",
              "            title=\"Suggest charts\"\n",
              "            style=\"display:none;\">\n",
              "\n",
              "<svg xmlns=\"http://www.w3.org/2000/svg\" height=\"24px\"viewBox=\"0 0 24 24\"\n",
              "     width=\"24px\">\n",
              "    <g>\n",
              "        <path d=\"M19 3H5c-1.1 0-2 .9-2 2v14c0 1.1.9 2 2 2h14c1.1 0 2-.9 2-2V5c0-1.1-.9-2-2-2zM9 17H7v-7h2v7zm4 0h-2V7h2v10zm4 0h-2v-4h2v4z\"/>\n",
              "    </g>\n",
              "</svg>\n",
              "  </button>\n",
              "\n",
              "<style>\n",
              "  .colab-df-quickchart {\n",
              "      --bg-color: #E8F0FE;\n",
              "      --fill-color: #1967D2;\n",
              "      --hover-bg-color: #E2EBFA;\n",
              "      --hover-fill-color: #174EA6;\n",
              "      --disabled-fill-color: #AAA;\n",
              "      --disabled-bg-color: #DDD;\n",
              "  }\n",
              "\n",
              "  [theme=dark] .colab-df-quickchart {\n",
              "      --bg-color: #3B4455;\n",
              "      --fill-color: #D2E3FC;\n",
              "      --hover-bg-color: #434B5C;\n",
              "      --hover-fill-color: #FFFFFF;\n",
              "      --disabled-bg-color: #3B4455;\n",
              "      --disabled-fill-color: #666;\n",
              "  }\n",
              "\n",
              "  .colab-df-quickchart {\n",
              "    background-color: var(--bg-color);\n",
              "    border: none;\n",
              "    border-radius: 50%;\n",
              "    cursor: pointer;\n",
              "    display: none;\n",
              "    fill: var(--fill-color);\n",
              "    height: 32px;\n",
              "    padding: 0;\n",
              "    width: 32px;\n",
              "  }\n",
              "\n",
              "  .colab-df-quickchart:hover {\n",
              "    background-color: var(--hover-bg-color);\n",
              "    box-shadow: 0 1px 2px rgba(60, 64, 67, 0.3), 0 1px 3px 1px rgba(60, 64, 67, 0.15);\n",
              "    fill: var(--button-hover-fill-color);\n",
              "  }\n",
              "\n",
              "  .colab-df-quickchart-complete:disabled,\n",
              "  .colab-df-quickchart-complete:disabled:hover {\n",
              "    background-color: var(--disabled-bg-color);\n",
              "    fill: var(--disabled-fill-color);\n",
              "    box-shadow: none;\n",
              "  }\n",
              "\n",
              "  .colab-df-spinner {\n",
              "    border: 2px solid var(--fill-color);\n",
              "    border-color: transparent;\n",
              "    border-bottom-color: var(--fill-color);\n",
              "    animation:\n",
              "      spin 1s steps(1) infinite;\n",
              "  }\n",
              "\n",
              "  @keyframes spin {\n",
              "    0% {\n",
              "      border-color: transparent;\n",
              "      border-bottom-color: var(--fill-color);\n",
              "      border-left-color: var(--fill-color);\n",
              "    }\n",
              "    20% {\n",
              "      border-color: transparent;\n",
              "      border-left-color: var(--fill-color);\n",
              "      border-top-color: var(--fill-color);\n",
              "    }\n",
              "    30% {\n",
              "      border-color: transparent;\n",
              "      border-left-color: var(--fill-color);\n",
              "      border-top-color: var(--fill-color);\n",
              "      border-right-color: var(--fill-color);\n",
              "    }\n",
              "    40% {\n",
              "      border-color: transparent;\n",
              "      border-right-color: var(--fill-color);\n",
              "      border-top-color: var(--fill-color);\n",
              "    }\n",
              "    60% {\n",
              "      border-color: transparent;\n",
              "      border-right-color: var(--fill-color);\n",
              "    }\n",
              "    80% {\n",
              "      border-color: transparent;\n",
              "      border-right-color: var(--fill-color);\n",
              "      border-bottom-color: var(--fill-color);\n",
              "    }\n",
              "    90% {\n",
              "      border-color: transparent;\n",
              "      border-bottom-color: var(--fill-color);\n",
              "    }\n",
              "  }\n",
              "</style>\n",
              "\n",
              "  <script>\n",
              "    async function quickchart(key) {\n",
              "      const quickchartButtonEl =\n",
              "        document.querySelector('#' + key + ' button');\n",
              "      quickchartButtonEl.disabled = true;  // To prevent multiple clicks.\n",
              "      quickchartButtonEl.classList.add('colab-df-spinner');\n",
              "      try {\n",
              "        const charts = await google.colab.kernel.invokeFunction(\n",
              "            'suggestCharts', [key], {});\n",
              "      } catch (error) {\n",
              "        console.error('Error during call to suggestCharts:', error);\n",
              "      }\n",
              "      quickchartButtonEl.classList.remove('colab-df-spinner');\n",
              "      quickchartButtonEl.classList.add('colab-df-quickchart-complete');\n",
              "    }\n",
              "    (() => {\n",
              "      let quickchartButtonEl =\n",
              "        document.querySelector('#df-b132799a-bb70-4a6b-9312-a4597a2d4eb8 button');\n",
              "      quickchartButtonEl.style.display =\n",
              "        google.colab.kernel.accessAllowed ? 'block' : 'none';\n",
              "    })();\n",
              "  </script>\n",
              "</div>\n",
              "    </div>\n",
              "  </div>\n"
            ],
            "text/plain": [
              "    Unnamed: 0  Sentence     Token    Tag\n",
              "0            0         0   Uppsala  B-LOC\n",
              "1            1         0         )      O\n",
              "2            2         0      هيّا      O\n",
              "3            3         0      رابع      O\n",
              "4            4         0      أكبر      O\n",
              "5            5         0     مدينة      O\n",
              "6            6         0         ف      O\n",
              "7            7         0     سّويد  B-LOC\n",
              "8            8         0        من      O\n",
              "9            9         0       بعد      O\n",
              "10          10         0  سطوكهولم  B-LOC\n",
              "11          11         0         ،      O\n",
              "12          12         0  ݣوتنبورݣ  B-LOC\n",
              "13          13         0         ؤ      O\n",
              "14          14         0     مالمو  B-LOC\n",
              "15          15         0         .      O\n",
              "16          16         1         ف      O\n",
              "17          17         1      2018      O\n",
              "18          18         1       كان      O\n",
              "19          19         1       عدد      O"
            ]
          },
          "execution_count": 33,
          "metadata": {},
          "output_type": "execute_result"
        }
      ],
      "source": [
        "nlp = spacy.blank('xx')\n",
        "text=pd.read_csv(\"DarNERcorp_train.csv\")\n",
        "text.head(20)"
      ]
    },
    {
      "cell_type": "markdown",
      "metadata": {
        "id": "eylS68IXO7Oe"
      },
      "source": [
        "#Display first rows of text data"
      ]
    },
    {
      "cell_type": "code",
      "execution_count": null,
      "metadata": {
        "colab": {
          "base_uri": "https://localhost:8080/",
          "height": 206
        },
        "id": "eBbx1K0ItGaq",
        "outputId": "5409ec69-6f0d-495f-bb75-59e04ee45317"
      },
      "outputs": [
        {
          "data": {
            "text/html": [
              "\n",
              "  <div id=\"df-e3b6759b-d31f-42b3-a5a0-45f4565962e2\" class=\"colab-df-container\">\n",
              "    <div>\n",
              "<style scoped>\n",
              "    .dataframe tbody tr th:only-of-type {\n",
              "        vertical-align: middle;\n",
              "    }\n",
              "\n",
              "    .dataframe tbody tr th {\n",
              "        vertical-align: top;\n",
              "    }\n",
              "\n",
              "    .dataframe thead th {\n",
              "        text-align: right;\n",
              "    }\n",
              "</style>\n",
              "<table border=\"1\" class=\"dataframe\">\n",
              "  <thead>\n",
              "    <tr style=\"text-align: right;\">\n",
              "      <th></th>\n",
              "      <th>Unnamed: 0</th>\n",
              "      <th>Sentence</th>\n",
              "      <th>Token</th>\n",
              "      <th>Tag</th>\n",
              "    </tr>\n",
              "  </thead>\n",
              "  <tbody>\n",
              "    <tr>\n",
              "      <th>0</th>\n",
              "      <td>0</td>\n",
              "      <td>0</td>\n",
              "      <td>Uppsala</td>\n",
              "      <td>B-LOC</td>\n",
              "    </tr>\n",
              "    <tr>\n",
              "      <th>1</th>\n",
              "      <td>1</td>\n",
              "      <td>0</td>\n",
              "      <td>)</td>\n",
              "      <td>O</td>\n",
              "    </tr>\n",
              "    <tr>\n",
              "      <th>2</th>\n",
              "      <td>2</td>\n",
              "      <td>0</td>\n",
              "      <td>هيّا</td>\n",
              "      <td>O</td>\n",
              "    </tr>\n",
              "    <tr>\n",
              "      <th>3</th>\n",
              "      <td>3</td>\n",
              "      <td>0</td>\n",
              "      <td>رابع</td>\n",
              "      <td>O</td>\n",
              "    </tr>\n",
              "    <tr>\n",
              "      <th>4</th>\n",
              "      <td>4</td>\n",
              "      <td>0</td>\n",
              "      <td>أكبر</td>\n",
              "      <td>O</td>\n",
              "    </tr>\n",
              "  </tbody>\n",
              "</table>\n",
              "</div>\n",
              "    <div class=\"colab-df-buttons\">\n",
              "\n",
              "  <div class=\"colab-df-container\">\n",
              "    <button class=\"colab-df-convert\" onclick=\"convertToInteractive('df-e3b6759b-d31f-42b3-a5a0-45f4565962e2')\"\n",
              "            title=\"Convert this dataframe to an interactive table.\"\n",
              "            style=\"display:none;\">\n",
              "\n",
              "  <svg xmlns=\"http://www.w3.org/2000/svg\" height=\"24px\" viewBox=\"0 -960 960 960\">\n",
              "    <path d=\"M120-120v-720h720v720H120Zm60-500h600v-160H180v160Zm220 220h160v-160H400v160Zm0 220h160v-160H400v160ZM180-400h160v-160H180v160Zm440 0h160v-160H620v160ZM180-180h160v-160H180v160Zm440 0h160v-160H620v160Z\"/>\n",
              "  </svg>\n",
              "    </button>\n",
              "\n",
              "  <style>\n",
              "    .colab-df-container {\n",
              "      display:flex;\n",
              "      gap: 12px;\n",
              "    }\n",
              "\n",
              "    .colab-df-convert {\n",
              "      background-color: #E8F0FE;\n",
              "      border: none;\n",
              "      border-radius: 50%;\n",
              "      cursor: pointer;\n",
              "      display: none;\n",
              "      fill: #1967D2;\n",
              "      height: 32px;\n",
              "      padding: 0 0 0 0;\n",
              "      width: 32px;\n",
              "    }\n",
              "\n",
              "    .colab-df-convert:hover {\n",
              "      background-color: #E2EBFA;\n",
              "      box-shadow: 0px 1px 2px rgba(60, 64, 67, 0.3), 0px 1px 3px 1px rgba(60, 64, 67, 0.15);\n",
              "      fill: #174EA6;\n",
              "    }\n",
              "\n",
              "    .colab-df-buttons div {\n",
              "      margin-bottom: 4px;\n",
              "    }\n",
              "\n",
              "    [theme=dark] .colab-df-convert {\n",
              "      background-color: #3B4455;\n",
              "      fill: #D2E3FC;\n",
              "    }\n",
              "\n",
              "    [theme=dark] .colab-df-convert:hover {\n",
              "      background-color: #434B5C;\n",
              "      box-shadow: 0px 1px 3px 1px rgba(0, 0, 0, 0.15);\n",
              "      filter: drop-shadow(0px 1px 2px rgba(0, 0, 0, 0.3));\n",
              "      fill: #FFFFFF;\n",
              "    }\n",
              "  </style>\n",
              "\n",
              "    <script>\n",
              "      const buttonEl =\n",
              "        document.querySelector('#df-e3b6759b-d31f-42b3-a5a0-45f4565962e2 button.colab-df-convert');\n",
              "      buttonEl.style.display =\n",
              "        google.colab.kernel.accessAllowed ? 'block' : 'none';\n",
              "\n",
              "      async function convertToInteractive(key) {\n",
              "        const element = document.querySelector('#df-e3b6759b-d31f-42b3-a5a0-45f4565962e2');\n",
              "        const dataTable =\n",
              "          await google.colab.kernel.invokeFunction('convertToInteractive',\n",
              "                                                    [key], {});\n",
              "        if (!dataTable) return;\n",
              "\n",
              "        const docLinkHtml = 'Like what you see? Visit the ' +\n",
              "          '<a target=\"_blank\" href=https://colab.research.google.com/notebooks/data_table.ipynb>data table notebook</a>'\n",
              "          + ' to learn more about interactive tables.';\n",
              "        element.innerHTML = '';\n",
              "        dataTable['output_type'] = 'display_data';\n",
              "        await google.colab.output.renderOutput(dataTable, element);\n",
              "        const docLink = document.createElement('div');\n",
              "        docLink.innerHTML = docLinkHtml;\n",
              "        element.appendChild(docLink);\n",
              "      }\n",
              "    </script>\n",
              "  </div>\n",
              "\n",
              "\n",
              "<div id=\"df-f651f3f1-fe66-4640-9201-789991a0a4bf\">\n",
              "  <button class=\"colab-df-quickchart\" onclick=\"quickchart('df-f651f3f1-fe66-4640-9201-789991a0a4bf')\"\n",
              "            title=\"Suggest charts\"\n",
              "            style=\"display:none;\">\n",
              "\n",
              "<svg xmlns=\"http://www.w3.org/2000/svg\" height=\"24px\"viewBox=\"0 0 24 24\"\n",
              "     width=\"24px\">\n",
              "    <g>\n",
              "        <path d=\"M19 3H5c-1.1 0-2 .9-2 2v14c0 1.1.9 2 2 2h14c1.1 0 2-.9 2-2V5c0-1.1-.9-2-2-2zM9 17H7v-7h2v7zm4 0h-2V7h2v10zm4 0h-2v-4h2v4z\"/>\n",
              "    </g>\n",
              "</svg>\n",
              "  </button>\n",
              "\n",
              "<style>\n",
              "  .colab-df-quickchart {\n",
              "      --bg-color: #E8F0FE;\n",
              "      --fill-color: #1967D2;\n",
              "      --hover-bg-color: #E2EBFA;\n",
              "      --hover-fill-color: #174EA6;\n",
              "      --disabled-fill-color: #AAA;\n",
              "      --disabled-bg-color: #DDD;\n",
              "  }\n",
              "\n",
              "  [theme=dark] .colab-df-quickchart {\n",
              "      --bg-color: #3B4455;\n",
              "      --fill-color: #D2E3FC;\n",
              "      --hover-bg-color: #434B5C;\n",
              "      --hover-fill-color: #FFFFFF;\n",
              "      --disabled-bg-color: #3B4455;\n",
              "      --disabled-fill-color: #666;\n",
              "  }\n",
              "\n",
              "  .colab-df-quickchart {\n",
              "    background-color: var(--bg-color);\n",
              "    border: none;\n",
              "    border-radius: 50%;\n",
              "    cursor: pointer;\n",
              "    display: none;\n",
              "    fill: var(--fill-color);\n",
              "    height: 32px;\n",
              "    padding: 0;\n",
              "    width: 32px;\n",
              "  }\n",
              "\n",
              "  .colab-df-quickchart:hover {\n",
              "    background-color: var(--hover-bg-color);\n",
              "    box-shadow: 0 1px 2px rgba(60, 64, 67, 0.3), 0 1px 3px 1px rgba(60, 64, 67, 0.15);\n",
              "    fill: var(--button-hover-fill-color);\n",
              "  }\n",
              "\n",
              "  .colab-df-quickchart-complete:disabled,\n",
              "  .colab-df-quickchart-complete:disabled:hover {\n",
              "    background-color: var(--disabled-bg-color);\n",
              "    fill: var(--disabled-fill-color);\n",
              "    box-shadow: none;\n",
              "  }\n",
              "\n",
              "  .colab-df-spinner {\n",
              "    border: 2px solid var(--fill-color);\n",
              "    border-color: transparent;\n",
              "    border-bottom-color: var(--fill-color);\n",
              "    animation:\n",
              "      spin 1s steps(1) infinite;\n",
              "  }\n",
              "\n",
              "  @keyframes spin {\n",
              "    0% {\n",
              "      border-color: transparent;\n",
              "      border-bottom-color: var(--fill-color);\n",
              "      border-left-color: var(--fill-color);\n",
              "    }\n",
              "    20% {\n",
              "      border-color: transparent;\n",
              "      border-left-color: var(--fill-color);\n",
              "      border-top-color: var(--fill-color);\n",
              "    }\n",
              "    30% {\n",
              "      border-color: transparent;\n",
              "      border-left-color: var(--fill-color);\n",
              "      border-top-color: var(--fill-color);\n",
              "      border-right-color: var(--fill-color);\n",
              "    }\n",
              "    40% {\n",
              "      border-color: transparent;\n",
              "      border-right-color: var(--fill-color);\n",
              "      border-top-color: var(--fill-color);\n",
              "    }\n",
              "    60% {\n",
              "      border-color: transparent;\n",
              "      border-right-color: var(--fill-color);\n",
              "    }\n",
              "    80% {\n",
              "      border-color: transparent;\n",
              "      border-right-color: var(--fill-color);\n",
              "      border-bottom-color: var(--fill-color);\n",
              "    }\n",
              "    90% {\n",
              "      border-color: transparent;\n",
              "      border-bottom-color: var(--fill-color);\n",
              "    }\n",
              "  }\n",
              "</style>\n",
              "\n",
              "  <script>\n",
              "    async function quickchart(key) {\n",
              "      const quickchartButtonEl =\n",
              "        document.querySelector('#' + key + ' button');\n",
              "      quickchartButtonEl.disabled = true;  // To prevent multiple clicks.\n",
              "      quickchartButtonEl.classList.add('colab-df-spinner');\n",
              "      try {\n",
              "        const charts = await google.colab.kernel.invokeFunction(\n",
              "            'suggestCharts', [key], {});\n",
              "      } catch (error) {\n",
              "        console.error('Error during call to suggestCharts:', error);\n",
              "      }\n",
              "      quickchartButtonEl.classList.remove('colab-df-spinner');\n",
              "      quickchartButtonEl.classList.add('colab-df-quickchart-complete');\n",
              "    }\n",
              "    (() => {\n",
              "      let quickchartButtonEl =\n",
              "        document.querySelector('#df-f651f3f1-fe66-4640-9201-789991a0a4bf button');\n",
              "      quickchartButtonEl.style.display =\n",
              "        google.colab.kernel.accessAllowed ? 'block' : 'none';\n",
              "    })();\n",
              "  </script>\n",
              "</div>\n",
              "    </div>\n",
              "  </div>\n"
            ],
            "text/plain": [
              "   Unnamed: 0  Sentence    Token    Tag\n",
              "0           0         0  Uppsala  B-LOC\n",
              "1           1         0        )      O\n",
              "2           2         0     هيّا      O\n",
              "3           3         0     رابع      O\n",
              "4           4         0     أكبر      O"
            ]
          },
          "execution_count": 34,
          "metadata": {},
          "output_type": "execute_result"
        }
      ],
      "source": [
        "text.head()"
      ]
    },
    {
      "cell_type": "markdown",
      "metadata": {
        "id": "INgYvd9ZPNpr"
      },
      "source": [
        "#Display information about text data"
      ]
    },
    {
      "cell_type": "code",
      "execution_count": null,
      "metadata": {
        "colab": {
          "base_uri": "https://localhost:8080/"
        },
        "id": "0NALYg6NtbSl",
        "outputId": "5d8933be-46b8-4ebd-db83-c6e11a1672c9"
      },
      "outputs": [
        {
          "name": "stdout",
          "output_type": "stream",
          "text": [
            "<class 'pandas.core.frame.DataFrame'>\n",
            "RangeIndex: 52724 entries, 0 to 52723\n",
            "Data columns (total 4 columns):\n",
            " #   Column      Non-Null Count  Dtype \n",
            "---  ------      --------------  ----- \n",
            " 0   Unnamed: 0  52724 non-null  int64 \n",
            " 1   Sentence    52724 non-null  int64 \n",
            " 2   Token       52717 non-null  object\n",
            " 3   Tag         52724 non-null  object\n",
            "dtypes: int64(2), object(2)\n",
            "memory usage: 1.6+ MB\n"
          ]
        }
      ],
      "source": [
        "text.info()"
      ]
    },
    {
      "cell_type": "markdown",
      "metadata": {
        "id": "n8n2p6n5P_uE"
      },
      "source": [
        "#Handling missing values"
      ]
    },
    {
      "cell_type": "code",
      "execution_count": null,
      "metadata": {
        "colab": {
          "base_uri": "https://localhost:8080/"
        },
        "id": "B4ptq_ZBtfgw",
        "outputId": "3b409ffa-9480-46fb-f763-575bea0fe8d3"
      },
      "outputs": [
        {
          "data": {
            "text/plain": [
              "Unnamed: 0    0\n",
              "Sentence      0\n",
              "Token         7\n",
              "Tag           0\n",
              "dtype: int64"
            ]
          },
          "execution_count": 36,
          "metadata": {},
          "output_type": "execute_result"
        }
      ],
      "source": [
        "text.isna().sum()"
      ]
    },
    {
      "cell_type": "code",
      "execution_count": null,
      "metadata": {
        "id": "M9QQU1FItk-A"
      },
      "outputs": [],
      "source": [
        "text = text.dropna(subset=['Token'])"
      ]
    },
    {
      "cell_type": "code",
      "execution_count": null,
      "metadata": {
        "colab": {
          "base_uri": "https://localhost:8080/"
        },
        "id": "sVz_W336t9aR",
        "outputId": "a163a677-0666-4dea-cc05-4955ca343e85"
      },
      "outputs": [
        {
          "data": {
            "text/plain": [
              "Unnamed: 0    0\n",
              "Sentence      0\n",
              "Token         0\n",
              "Tag           0\n",
              "dtype: int64"
            ]
          },
          "execution_count": 38,
          "metadata": {},
          "output_type": "execute_result"
        }
      ],
      "source": [
        "text.isna().sum()"
      ]
    },
    {
      "cell_type": "code",
      "execution_count": null,
      "metadata": {
        "colab": {
          "base_uri": "https://localhost:8080/"
        },
        "id": "OhMVdwUbtvpw",
        "outputId": "da344494-ef0a-4e20-9988-6d371292ec20"
      },
      "outputs": [
        {
          "name": "stdout",
          "output_type": "stream",
          "text": [
            "Unique words in corpus: 12306\n",
            "Unique tags in corpus: 9\n"
          ]
        }
      ],
      "source": [
        "print(\"Unique words in corpus:\", text['Token'].nunique())\n",
        "print(\"Unique tags in corpus:\", text['Tag'].nunique())"
      ]
    },
    {
      "cell_type": "markdown",
      "metadata": {
        "id": "MnOahD8WQdEA"
      },
      "source": [
        "#Cleaning and filtering the data"
      ]
    },
    {
      "cell_type": "code",
      "execution_count": null,
      "metadata": {
        "colab": {
          "background_save": true
        },
        "id": "X-_V2txVt1dD"
      },
      "outputs": [],
      "source": [
        "from nltk.corpus import stopwords\n",
        "\n",
        "# Fonction pour supprimer la ponctuation et les stopwords en arabe\n",
        "def clean_text(text):\n",
        "    # Vérifier si c'est une chaîne de caractères valide\n",
        "    if isinstance(text, str):\n",
        "        # Supprimer la ponctuation\n",
        "        text_no_punctuation = re.sub(r'[^\\w\\s]', '', text)\n",
        "\n",
        "        # Supprimer les stopwords\n",
        "        stop_words = set(stopwords.words('arabic'))\n",
        "        words = text_no_punctuation.split()\n",
        "        filtered_words = [word for word in words if word not in stop_words and not word.isdigit() and word != 'Uppsala']\n",
        "\n",
        "        return ' '.join(filtered_words)\n",
        "    else:\n",
        "        return ''  # Retourner une chaîne vide pour les éléments non textuels\n",
        "\n",
        "# Appliquer la fonction à la colonne 'Token' après avoir filtré les éléments non textuels\n",
        "text['Token_cleaned'] = text['Token'].apply(clean_text)\n",
        "# Supprimer les lignes où la colonne 'Token_cleaned' est vide\n",
        "text = text[text['Token_cleaned'].astype(str).str.strip() != '']\n",
        "# Afficher les premières lignes pour vérifier\n",
        "text.head(30)\n"
      ]
    },
    {
      "cell_type": "markdown",
      "source": [
        "#Extracting unique tags"
      ],
      "metadata": {
        "id": "JhM4wDHAYaAz"
      }
    },
    {
      "cell_type": "code",
      "execution_count": null,
      "metadata": {
        "colab": {
          "background_save": true
        },
        "id": "wShA8Rgot3rW"
      },
      "outputs": [],
      "source": [
        "#Extracting unique tags\n",
        "pd.unique(text['Tag']).tolist()"
      ]
    },
    {
      "cell_type": "code",
      "execution_count": null,
      "metadata": {
        "colab": {
          "background_save": true
        },
        "id": "VosxtbLSuTwv"
      },
      "outputs": [],
      "source": [
        "# Create a blank spaCy nlp pipeline\n",
        "nlp = spacy.blank(\"ar\")\n",
        "\n",
        "# Create a Doc Doc object\n",
        "doc = Doc(nlp.vocab, words=text['Token_cleaned'].astype(str).tolist(), ents=text['Tag'])"
      ]
    },
    {
      "cell_type": "code",
      "execution_count": null,
      "metadata": {
        "colab": {
          "background_save": true
        },
        "id": "UDHLcaX8uweI"
      },
      "outputs": [],
      "source": [
        "from spacy import displacy\n",
        "displacy.render(doc, style=\"ent\",jupyter=True)"
      ]
    },
    {
      "cell_type": "code",
      "execution_count": null,
      "metadata": {
        "colab": {
          "background_save": true
        },
        "id": "O5YPtddY5kEl"
      },
      "outputs": [],
      "source": [
        "labels = np.array(['<PAD>', 'O', 'B-LOC', 'B-MISC', 'B-ORG', 'B-PER', 'I-LOC', 'I-MISC', 'I-ORG', 'I-PER'])\n",
        "label_mapping = {label: index for index, label in enumerate(labels)}\n",
        "\n",
        "text['Tag'] = text['Tag'].apply(lambda x: label_mapping[x])"
      ]
    },
    {
      "cell_type": "code",
      "execution_count": null,
      "metadata": {
        "colab": {
          "background_save": true
        },
        "id": "dLVTsUurJyPp"
      },
      "outputs": [],
      "source": [
        "words = list(set(text[\"Token\"].values))\n",
        "words.append(\"ENDPAD\")\n",
        "num_words = len(words)\n",
        "tags = list(set(text[\"Tag\"].values))\n",
        "num_tags = len(tags)"
      ]
    },
    {
      "cell_type": "markdown",
      "source": [
        "#Visualize tag distribution"
      ],
      "metadata": {
        "id": "G8C3nvHJYP66"
      }
    },
    {
      "cell_type": "code",
      "execution_count": null,
      "metadata": {
        "colab": {
          "background_save": true
        },
        "id": "nX4JFgTSLw7O"
      },
      "outputs": [],
      "source": [
        "import plotly.express as px\n",
        "\n",
        "# Convert the column to string type if it's not already\n",
        "text['Tag'] = text['Tag'].astype(str)\n",
        "\n",
        "# Use str.contains() after ensuring the column is of string type\n",
        "fig = px.histogram(text[~text['Tag'].str.contains(\"O\")], x=\"Tag\", color=\"Tag\")\n",
        "fig.show()\n"
      ]
    },
    {
      "cell_type": "code",
      "execution_count": null,
      "metadata": {
        "colab": {
          "background_save": true
        },
        "id": "3cUp9aqe5PQg"
      },
      "outputs": [],
      "source": [
        "num_class = len(labels)\n",
        "print(f'Number of Classes = {num_class}')"
      ]
    },
    {
      "cell_type": "code",
      "execution_count": null,
      "metadata": {
        "colab": {
          "background_save": true
        },
        "id": "9b8ZPG7Q5eL2"
      },
      "outputs": [],
      "source": [
        "max_length = text.groupby('Sentence').count()['Token_cleaned'].max()\n",
        "print(f'Max Lenght = {max_length}')"
      ]
    },
    {
      "cell_type": "code",
      "execution_count": null,
      "metadata": {
        "colab": {
          "background_save": true
        },
        "id": "AtHwHWcTAi9J"
      },
      "outputs": [],
      "source": [
        "num_sentence = len(pd.unique(text['Sentence']))\n",
        "print(f'Number of Sentence = {num_sentence}')"
      ]
    },
    {
      "cell_type": "markdown",
      "source": [
        "#Tokenizing and padding sequences"
      ],
      "metadata": {
        "id": "FVT8BNMKZcOu"
      }
    },
    {
      "cell_type": "code",
      "execution_count": null,
      "metadata": {
        "colab": {
          "background_save": true
        },
        "id": "UTETKcbrWlJ8"
      },
      "outputs": [],
      "source": [
        "Tokens = text.groupby('Sentence')['Token_cleaned'].agg(lambda x: x.tolist())\n",
        "\n",
        "Tokenizer = tf.keras.preprocessing.text.Tokenizer()\n",
        "Tokenizer.fit_on_texts(Tokens)\n",
        "\n",
        "X = tf.keras.preprocessing.sequence.pad_sequences(Tokenizer.texts_to_sequences(Tokens), maxlen = max_length)"
      ]
    },
    {
      "cell_type": "code",
      "execution_count": null,
      "metadata": {
        "colab": {
          "background_save": true
        },
        "id": "FVsXgQ7UWmVP"
      },
      "outputs": [],
      "source": [
        "vocab_size = len(Tokenizer.word_index) + 1\n",
        "print(f'Vocabulary Size = {vocab_size}')"
      ]
    },
    {
      "cell_type": "code",
      "execution_count": null,
      "metadata": {
        "colab": {
          "background_save": true
        },
        "id": "pWWchPXrX62Y"
      },
      "outputs": [],
      "source": [
        "Tags = text.groupby('Sentence')['Tag'].agg(lambda x: x.tolist())\n",
        "\n",
        "y = tf.keras.preprocessing.sequence.pad_sequences(Tags, maxlen = max_length, padding='post', truncating='post')"
      ]
    },
    {
      "cell_type": "code",
      "execution_count": null,
      "metadata": {
        "colab": {
          "background_save": true
        },
        "id": "P4oY5m9dcp39"
      },
      "outputs": [],
      "source": [
        "print(f'Input: {X.shape}')\n",
        "print(f'Output : {y.shape}')"
      ]
    },
    {
      "cell_type": "markdown",
      "metadata": {
        "id": "w9FZSnW8V7ah"
      },
      "source": [
        "#Bert model"
      ]
    },
    {
      "cell_type": "markdown",
      "source": [
        "###Split data for Bert model"
      ],
      "metadata": {
        "id": "Qa7fClDNdUXm"
      }
    },
    {
      "cell_type": "code",
      "execution_count": null,
      "metadata": {
        "colab": {
          "background_save": true
        },
        "id": "CW-cIG6eGGjQ"
      },
      "outputs": [],
      "source": [
        "token_type_ids = np.array([[i] * X.shape[1] for i in range(X.shape[0])])"
      ]
    },
    {
      "cell_type": "code",
      "execution_count": null,
      "metadata": {
        "colab": {
          "background_save": true
        },
        "id": "_TSxurdmGIej"
      },
      "outputs": [],
      "source": [
        "from sklearn.model_selection import train_test_split\n",
        "\n",
        "# For tokenType_ids\n",
        "tokenType_train, tokenType_test, label_train, _ = train_test_split(\n",
        "    token_type_ids, y, test_size=0.2\n",
        ")\n",
        "tokenType_train, tokenType_val, _, _ = train_test_split(\n",
        "    tokenType_train, label_train, test_size=0.2\n",
        ")\n",
        "\n",
        "# For inputIds\n",
        "inputIds_train, inputIds_test, label_train, label_test = train_test_split(\n",
        "    X, y, test_size=0.2\n",
        ")\n",
        "inputIds_train, inputIds_val, label_train, label_val = train_test_split(\n",
        "    inputIds_train, label_train, test_size=0.2\n",
        ")\n"
      ]
    },
    {
      "cell_type": "markdown",
      "source": [
        "###Generate input masks"
      ],
      "metadata": {
        "id": "JWBhOCc8dbTI"
      }
    },
    {
      "cell_type": "code",
      "execution_count": null,
      "metadata": {
        "colab": {
          "background_save": true
        },
        "id": "rLLDE74MGo_w"
      },
      "outputs": [],
      "source": [
        "mask_train = (inputIds_train != 0).astype(int)\n",
        "mask_val = (inputIds_val != 0).astype(int)\n",
        "mask_test = (inputIds_test != 0).astype(int)"
      ]
    },
    {
      "cell_type": "code",
      "execution_count": null,
      "metadata": {
        "colab": {
          "background_save": true
        },
        "id": "TW9dpGquHC-x"
      },
      "outputs": [],
      "source": [
        "def map_example_to_dict(input_ids, attention_masks, label):\n",
        "  return {\n",
        "      \"input_ids\": input_ids,\n",
        "      \"attention_mask\": attention_masks,\n",
        "  }, label"
      ]
    },
    {
      "cell_type": "markdown",
      "source": [
        "###Create encoded datasets"
      ],
      "metadata": {
        "id": "EQNNrhbhdmqL"
      }
    },
    {
      "cell_type": "code",
      "execution_count": null,
      "metadata": {
        "colab": {
          "background_save": true
        },
        "id": "cI4aEeJbHIKb"
      },
      "outputs": [],
      "source": [
        "ds_train_encoded = tf.data.Dataset.from_tensor_slices((inputIds_train, mask_train, label_train)).map(map_example_to_dict).batch(8)\n",
        "ds_val_encoded = tf.data.Dataset.from_tensor_slices((inputIds_val, mask_val, label_val)).map(map_example_to_dict).batch(8)\n",
        "ds_test_encoded = tf.data.Dataset.from_tensor_slices((inputIds_test, mask_test, label_test)).map(map_example_to_dict).batch(8)"
      ]
    },
    {
      "cell_type": "code",
      "execution_count": null,
      "metadata": {
        "colab": {
          "background_save": true
        },
        "id": "q1w9L40ENVJ1",
        "outputId": "299ff032-e67e-4e33-f889-327407da308e"
      },
      "outputs": [
        {
          "name": "stdout",
          "output_type": "stream",
          "text": [
            "Requirement already satisfied: torch in /usr/local/lib/python3.10/dist-packages (2.1.0+cu121)\n",
            "Requirement already satisfied: filelock in /usr/local/lib/python3.10/dist-packages (from torch) (3.13.1)\n",
            "Requirement already satisfied: typing-extensions in /usr/local/lib/python3.10/dist-packages (from torch) (4.5.0)\n",
            "Requirement already satisfied: sympy in /usr/local/lib/python3.10/dist-packages (from torch) (1.12)\n",
            "Requirement already satisfied: networkx in /usr/local/lib/python3.10/dist-packages (from torch) (3.2.1)\n",
            "Requirement already satisfied: jinja2 in /usr/local/lib/python3.10/dist-packages (from torch) (3.1.3)\n",
            "Requirement already satisfied: fsspec in /usr/local/lib/python3.10/dist-packages (from torch) (2023.6.0)\n",
            "Requirement already satisfied: triton==2.1.0 in /usr/local/lib/python3.10/dist-packages (from torch) (2.1.0)\n",
            "Requirement already satisfied: MarkupSafe>=2.0 in /usr/local/lib/python3.10/dist-packages (from jinja2->torch) (2.1.4)\n",
            "Requirement already satisfied: mpmath>=0.19 in /usr/local/lib/python3.10/dist-packages (from sympy->torch) (1.3.0)\n"
          ]
        }
      ],
      "source": [
        "!pip install torch"
      ]
    },
    {
      "cell_type": "markdown",
      "source": [
        "###Loading pretrained model"
      ],
      "metadata": {
        "id": "WGLCWNSUd4NA"
      }
    },
    {
      "cell_type": "code",
      "execution_count": null,
      "metadata": {
        "colab": {
          "base_uri": "https://localhost:8080/",
          "height": 327,
          "referenced_widgets": [
            "cf95df4881824e8f9a7bf8a196ee55af",
            "56d46e52aa8a4f91862ce8dd615d3692",
            "60424c99b03f43c8bf547826a46ba310",
            "c81486c7aef84f9884f2b720749a5296",
            "7d70e7eaaee94b2fb9b2a71b8bffff72",
            "46d12754bd04451fa541639e14f7ac2c",
            "b3f977cfebe54931be6351aefa3d4bfc",
            "b5d412c3717b4f73a3f22a672b6e31bd",
            "df255281aa934d3dbef2777022806f14",
            "fd04e63b9b4a4850af8c6f99587afbc8",
            "cc6bb1c4506649b5b283a9445f7d83ee",
            "72406e9924184822a48ccdb08a136fa3",
            "6306377afb2f41c88d25b69c44a2ea86",
            "705e24aea6fd417a8bfe2c0eaeaa44fd",
            "e6e585df8cc9447a9ae74214ff2c9afc",
            "b09d9dda8f9c4d0caa36561f4995e967",
            "ffe875e2f8894e1d8bb33cde59821a11",
            "361a9c961fe24bf09831d56ff914f83f",
            "d2cce06e6ed6489688afefb825acb74f",
            "fa3c3f9d40514c45bd5f9e6af7500926",
            "e360797a9b674cef982304daea3f4506",
            "8666a4a41e4848178decc84d613d595e"
          ]
        },
        "id": "PKJC8kh9HMQp",
        "outputId": "c90841a8-aa0b-4621-af91-1a6d65f40116"
      },
      "outputs": [
        {
          "output_type": "stream",
          "name": "stderr",
          "text": [
            "/usr/local/lib/python3.10/dist-packages/huggingface_hub/utils/_token.py:88: UserWarning:\n",
            "\n",
            "\n",
            "The secret `HF_TOKEN` does not exist in your Colab secrets.\n",
            "To authenticate with the Hugging Face Hub, create a token in your settings tab (https://huggingface.co/settings/tokens), set it as secret in your Google Colab and restart your session.\n",
            "You will be able to reuse this secret in all of your notebooks.\n",
            "Please note that authentication is recommended but still optional to access public models or datasets.\n",
            "\n"
          ]
        },
        {
          "output_type": "display_data",
          "data": {
            "text/plain": [
              "config.json:   0%|          | 0.00/1.05k [00:00<?, ?B/s]"
            ],
            "application/vnd.jupyter.widget-view+json": {
              "version_major": 2,
              "version_minor": 0,
              "model_id": "cf95df4881824e8f9a7bf8a196ee55af"
            }
          },
          "metadata": {}
        },
        {
          "output_type": "display_data",
          "data": {
            "text/plain": [
              "pytorch_model.bin:   0%|          | 0.00/539M [00:00<?, ?B/s]"
            ],
            "application/vnd.jupyter.widget-view+json": {
              "version_major": 2,
              "version_minor": 0,
              "model_id": "72406e9924184822a48ccdb08a136fa3"
            }
          },
          "metadata": {}
        },
        {
          "output_type": "stream",
          "name": "stderr",
          "text": [
            "Some weights of the PyTorch model were not used when initializing the TF 2.0 model TFBertForTokenClassification: ['bert.embeddings.position_ids']\n",
            "- This IS expected if you are initializing TFBertForTokenClassification from a PyTorch model trained on another task or with another architecture (e.g. initializing a TFBertForSequenceClassification model from a BertForPreTraining model).\n",
            "- This IS NOT expected if you are initializing TFBertForTokenClassification from a PyTorch model that you expect to be exactly identical (e.g. initializing a TFBertForSequenceClassification model from a BertForSequenceClassification model).\n",
            "All the weights of TFBertForTokenClassification were initialized from the PyTorch model.\n",
            "If your task is similar to the task the model of the checkpoint was trained on, you can already use TFBertForTokenClassification for predictions without further training.\n"
          ]
        }
      ],
      "source": [
        "from transformers import TFBertForTokenClassification, BertTokenizer\n",
        "\n",
        "learning_rate = 3e-5\n",
        "\n",
        "model2 = TFBertForTokenClassification.from_pretrained('hananour/darija-ner', num_labels=num_class, from_pt=True)"
      ]
    },
    {
      "cell_type": "markdown",
      "source": [
        "###Compiling and training the Bert model"
      ],
      "metadata": {
        "id": "zv-y38Jdd8xL"
      }
    },
    {
      "cell_type": "code",
      "execution_count": null,
      "metadata": {
        "id": "1k8eW6axH_Gi"
      },
      "outputs": [],
      "source": [
        "loss = tf.keras.losses.SparseCategoricalCrossentropy(from_logits=True)\n",
        "metric = tf.keras.metrics.SparseCategoricalAccuracy('accuracy')\n",
        "\n",
        "optimizer = tf.keras.optimizers.Adam(learning_rate=learning_rate, epsilon=1e-8)\n",
        "model2.compile(optimizer=optimizer, loss=loss, metrics=[metric])"
      ]
    },
    {
      "cell_type": "code",
      "execution_count": null,
      "metadata": {
        "id": "Ev34T9iMIM-m",
        "colab": {
          "base_uri": "https://localhost:8080/"
        },
        "outputId": "5e79e270-63ac-44e9-85af-f5e9838cad25"
      },
      "outputs": [
        {
          "output_type": "stream",
          "name": "stdout",
          "text": [
            "Model: \"tf_bert_for_token_classification\"\n",
            "_________________________________________________________________\n",
            " Layer (type)                Output Shape              Param #   \n",
            "=================================================================\n",
            " bert (TFBertMainLayer)      multiple                  134602752 \n",
            "                                                                 \n",
            " dropout_37 (Dropout)        multiple                  0         \n",
            "                                                                 \n",
            " classifier (Dense)          multiple                  7690      \n",
            "                                                                 \n",
            "=================================================================\n",
            "Total params: 134610442 (513.50 MB)\n",
            "Trainable params: 134610442 (513.50 MB)\n",
            "Non-trainable params: 0 (0.00 Byte)\n",
            "_________________________________________________________________\n"
          ]
        }
      ],
      "source": [
        "model2.summary()"
      ]
    },
    {
      "cell_type": "code",
      "execution_count": 63,
      "metadata": {
        "id": "cZ5cExaBIacL",
        "colab": {
          "base_uri": "https://localhost:8080/"
        },
        "outputId": "7ad122d8-bcaa-4a0c-d101-0188518730e1"
      },
      "outputs": [
        {
          "output_type": "stream",
          "name": "stdout",
          "text": [
            "Epoch 1/100\n",
            "155/155 [==============================] - 92s 298ms/step - loss: 0.6402 - accuracy: 0.8459 - val_loss: 0.4719 - val_accuracy: 0.8729\n",
            "Epoch 2/100\n",
            "155/155 [==============================] - 40s 259ms/step - loss: 0.4462 - accuracy: 0.8708 - val_loss: 0.3843 - val_accuracy: 0.8568\n",
            "Epoch 3/100\n",
            "155/155 [==============================] - 40s 257ms/step - loss: 0.3133 - accuracy: 0.9044 - val_loss: 0.2845 - val_accuracy: 0.9051\n",
            "Epoch 4/100\n",
            "155/155 [==============================] - 38s 245ms/step - loss: 0.2594 - accuracy: 0.9275 - val_loss: 0.2387 - val_accuracy: 0.9290\n",
            "Epoch 5/100\n",
            "155/155 [==============================] - 40s 258ms/step - loss: 0.2285 - accuracy: 0.9365 - val_loss: 0.2074 - val_accuracy: 0.9390\n",
            "Epoch 6/100\n",
            "155/155 [==============================] - 40s 258ms/step - loss: 0.2115 - accuracy: 0.9425 - val_loss: 0.2053 - val_accuracy: 0.9452\n",
            "Epoch 7/100\n",
            "155/155 [==============================] - 40s 258ms/step - loss: 0.2039 - accuracy: 0.9462 - val_loss: 0.1927 - val_accuracy: 0.9488\n",
            "Epoch 8/100\n",
            "155/155 [==============================] - 40s 258ms/step - loss: 0.1902 - accuracy: 0.9493 - val_loss: 0.1762 - val_accuracy: 0.9524\n",
            "Epoch 9/100\n",
            "155/155 [==============================] - 40s 257ms/step - loss: 0.1839 - accuracy: 0.9506 - val_loss: 0.1830 - val_accuracy: 0.9510\n",
            "Epoch 10/100\n",
            "155/155 [==============================] - 38s 243ms/step - loss: 0.1756 - accuracy: 0.9529 - val_loss: 0.1773 - val_accuracy: 0.9523\n",
            "Epoch 11/100\n",
            "155/155 [==============================] - 40s 260ms/step - loss: 0.1703 - accuracy: 0.9541 - val_loss: 0.1977 - val_accuracy: 0.9480\n",
            "Epoch 12/100\n",
            "155/155 [==============================] - 40s 259ms/step - loss: 0.1628 - accuracy: 0.9562 - val_loss: 0.1989 - val_accuracy: 0.9492\n",
            "Epoch 13/100\n",
            "155/155 [==============================] - 38s 245ms/step - loss: 0.1614 - accuracy: 0.9567 - val_loss: 0.1974 - val_accuracy: 0.9514\n",
            "Epoch 14/100\n",
            "155/155 [==============================] - 40s 258ms/step - loss: 0.1519 - accuracy: 0.9589 - val_loss: 0.1826 - val_accuracy: 0.9522\n",
            "Epoch 15/100\n",
            "155/155 [==============================] - 40s 259ms/step - loss: 0.1495 - accuracy: 0.9584 - val_loss: 0.1745 - val_accuracy: 0.9557\n",
            "Epoch 16/100\n",
            "155/155 [==============================] - 40s 259ms/step - loss: 0.1445 - accuracy: 0.9595 - val_loss: 0.1807 - val_accuracy: 0.9533\n",
            "Epoch 17/100\n",
            "155/155 [==============================] - 40s 258ms/step - loss: 0.1384 - accuracy: 0.9612 - val_loss: 0.1656 - val_accuracy: 0.9586\n",
            "Epoch 18/100\n",
            "155/155 [==============================] - 40s 259ms/step - loss: 0.1339 - accuracy: 0.9622 - val_loss: 0.1824 - val_accuracy: 0.9551\n",
            "Epoch 19/100\n",
            "155/155 [==============================] - 38s 243ms/step - loss: 0.1299 - accuracy: 0.9625 - val_loss: 0.1721 - val_accuracy: 0.9572\n",
            "Epoch 20/100\n",
            "155/155 [==============================] - 40s 258ms/step - loss: 0.1285 - accuracy: 0.9626 - val_loss: 0.1637 - val_accuracy: 0.9584\n",
            "Epoch 21/100\n",
            "155/155 [==============================] - 40s 258ms/step - loss: 0.1281 - accuracy: 0.9624 - val_loss: 0.1985 - val_accuracy: 0.9525\n",
            "Epoch 22/100\n",
            "155/155 [==============================] - 38s 243ms/step - loss: 0.1227 - accuracy: 0.9636 - val_loss: 0.1638 - val_accuracy: 0.9588\n",
            "Epoch 23/100\n",
            "155/155 [==============================] - 38s 243ms/step - loss: 0.1198 - accuracy: 0.9642 - val_loss: 0.1669 - val_accuracy: 0.9601\n",
            "Epoch 24/100\n",
            "155/155 [==============================] - 38s 243ms/step - loss: 0.1181 - accuracy: 0.9646 - val_loss: 0.1588 - val_accuracy: 0.9622\n",
            "Epoch 25/100\n",
            "155/155 [==============================] - 40s 259ms/step - loss: 0.1178 - accuracy: 0.9642 - val_loss: 0.1700 - val_accuracy: 0.9609\n",
            "Epoch 26/100\n",
            "155/155 [==============================] - 40s 258ms/step - loss: 0.1148 - accuracy: 0.9651 - val_loss: 0.1712 - val_accuracy: 0.9574\n",
            "Epoch 27/100\n",
            "155/155 [==============================] - 40s 258ms/step - loss: 0.1131 - accuracy: 0.9654 - val_loss: 0.1804 - val_accuracy: 0.9587\n",
            "Epoch 28/100\n",
            "155/155 [==============================] - 40s 258ms/step - loss: 0.1141 - accuracy: 0.9655 - val_loss: 0.1571 - val_accuracy: 0.9617\n",
            "Epoch 29/100\n",
            "155/155 [==============================] - 40s 258ms/step - loss: 0.1111 - accuracy: 0.9658 - val_loss: 0.1491 - val_accuracy: 0.9629\n",
            "Epoch 30/100\n",
            "155/155 [==============================] - 40s 259ms/step - loss: 0.1107 - accuracy: 0.9660 - val_loss: 0.1543 - val_accuracy: 0.9631\n",
            "Epoch 31/100\n",
            "155/155 [==============================] - 40s 257ms/step - loss: 0.1072 - accuracy: 0.9663 - val_loss: 0.1451 - val_accuracy: 0.9655\n",
            "Epoch 32/100\n",
            "155/155 [==============================] - 38s 244ms/step - loss: 0.1070 - accuracy: 0.9667 - val_loss: 0.1546 - val_accuracy: 0.9619\n",
            "Epoch 33/100\n",
            "155/155 [==============================] - 40s 258ms/step - loss: 0.1052 - accuracy: 0.9668 - val_loss: 0.1468 - val_accuracy: 0.9658\n",
            "Epoch 34/100\n",
            "155/155 [==============================] - 40s 259ms/step - loss: 0.1033 - accuracy: 0.9672 - val_loss: 0.1453 - val_accuracy: 0.9661\n",
            "Epoch 35/100\n",
            "155/155 [==============================] - 40s 257ms/step - loss: 0.1020 - accuracy: 0.9674 - val_loss: 0.1409 - val_accuracy: 0.9669\n",
            "Epoch 36/100\n",
            "155/155 [==============================] - 40s 257ms/step - loss: 0.1006 - accuracy: 0.9682 - val_loss: 0.1424 - val_accuracy: 0.9664\n",
            "Epoch 37/100\n",
            "155/155 [==============================] - 40s 257ms/step - loss: 0.1107 - accuracy: 0.9658 - val_loss: 0.1647 - val_accuracy: 0.9618\n",
            "Epoch 38/100\n",
            "155/155 [==============================] - 40s 257ms/step - loss: 0.1032 - accuracy: 0.9675 - val_loss: 0.1460 - val_accuracy: 0.9674\n",
            "Epoch 39/100\n",
            "155/155 [==============================] - 40s 260ms/step - loss: 0.0991 - accuracy: 0.9682 - val_loss: 0.1436 - val_accuracy: 0.9667\n",
            "Epoch 40/100\n",
            "155/155 [==============================] - 38s 244ms/step - loss: 0.0978 - accuracy: 0.9684 - val_loss: 0.1399 - val_accuracy: 0.9688\n",
            "Epoch 41/100\n",
            "155/155 [==============================] - 40s 258ms/step - loss: 0.0972 - accuracy: 0.9685 - val_loss: 0.1401 - val_accuracy: 0.9664\n",
            "Epoch 42/100\n",
            "155/155 [==============================] - 40s 258ms/step - loss: 0.0945 - accuracy: 0.9689 - val_loss: 0.1345 - val_accuracy: 0.9686\n",
            "Epoch 43/100\n",
            "155/155 [==============================] - 40s 259ms/step - loss: 0.0944 - accuracy: 0.9693 - val_loss: 0.1331 - val_accuracy: 0.9668\n",
            "Epoch 44/100\n",
            "155/155 [==============================] - 40s 258ms/step - loss: 0.0930 - accuracy: 0.9692 - val_loss: 0.1432 - val_accuracy: 0.9671\n",
            "Epoch 45/100\n",
            "155/155 [==============================] - 40s 258ms/step - loss: 0.0921 - accuracy: 0.9695 - val_loss: 0.1354 - val_accuracy: 0.9687\n",
            "Epoch 46/100\n",
            "155/155 [==============================] - 40s 259ms/step - loss: 0.0924 - accuracy: 0.9697 - val_loss: 0.1325 - val_accuracy: 0.9679\n",
            "Epoch 47/100\n",
            "155/155 [==============================] - 40s 258ms/step - loss: 0.0901 - accuracy: 0.9701 - val_loss: 0.1305 - val_accuracy: 0.9684\n",
            "Epoch 48/100\n",
            "155/155 [==============================] - 40s 259ms/step - loss: 0.0886 - accuracy: 0.9705 - val_loss: 0.1264 - val_accuracy: 0.9702\n",
            "Epoch 49/100\n",
            "155/155 [==============================] - 40s 258ms/step - loss: 0.0878 - accuracy: 0.9709 - val_loss: 0.1304 - val_accuracy: 0.9695\n",
            "Epoch 50/100\n",
            "155/155 [==============================] - 40s 258ms/step - loss: 0.0867 - accuracy: 0.9706 - val_loss: 0.1399 - val_accuracy: 0.9659\n",
            "Epoch 51/100\n",
            "155/155 [==============================] - 40s 257ms/step - loss: 0.0887 - accuracy: 0.9705 - val_loss: 0.1372 - val_accuracy: 0.9643\n",
            "Epoch 52/100\n",
            "155/155 [==============================] - 40s 258ms/step - loss: 0.0854 - accuracy: 0.9706 - val_loss: 0.1314 - val_accuracy: 0.9678\n",
            "Epoch 53/100\n",
            "155/155 [==============================] - 40s 258ms/step - loss: 0.0844 - accuracy: 0.9713 - val_loss: 0.1369 - val_accuracy: 0.9672\n",
            "Epoch 54/100\n",
            "155/155 [==============================] - 40s 258ms/step - loss: 0.0849 - accuracy: 0.9711 - val_loss: 0.1360 - val_accuracy: 0.9685\n",
            "Epoch 55/100\n",
            "155/155 [==============================] - 40s 258ms/step - loss: 0.0831 - accuracy: 0.9714 - val_loss: 0.1397 - val_accuracy: 0.9674\n",
            "Epoch 56/100\n",
            "155/155 [==============================] - 40s 258ms/step - loss: 0.0828 - accuracy: 0.9715 - val_loss: 0.1339 - val_accuracy: 0.9691\n",
            "Epoch 57/100\n",
            "155/155 [==============================] - 40s 258ms/step - loss: 0.0816 - accuracy: 0.9718 - val_loss: 0.1411 - val_accuracy: 0.9670\n",
            "Epoch 58/100\n",
            "155/155 [==============================] - 40s 258ms/step - loss: 0.0816 - accuracy: 0.9720 - val_loss: 0.1441 - val_accuracy: 0.9664\n",
            "Epoch 59/100\n",
            "155/155 [==============================] - 40s 260ms/step - loss: 0.0796 - accuracy: 0.9721 - val_loss: 0.1595 - val_accuracy: 0.9631\n",
            "Epoch 60/100\n",
            "155/155 [==============================] - 38s 243ms/step - loss: 0.0778 - accuracy: 0.9727 - val_loss: 0.1543 - val_accuracy: 0.9657\n",
            "Epoch 61/100\n",
            "155/155 [==============================] - 40s 259ms/step - loss: 0.0768 - accuracy: 0.9729 - val_loss: 0.1517 - val_accuracy: 0.9654\n",
            "Epoch 62/100\n",
            "155/155 [==============================] - 38s 243ms/step - loss: 0.0771 - accuracy: 0.9730 - val_loss: 0.1527 - val_accuracy: 0.9652\n",
            "Epoch 63/100\n",
            "155/155 [==============================] - 38s 246ms/step - loss: 0.0748 - accuracy: 0.9735 - val_loss: 0.1518 - val_accuracy: 0.9653\n",
            "Epoch 64/100\n",
            "155/155 [==============================] - 40s 257ms/step - loss: 0.0729 - accuracy: 0.9739 - val_loss: 0.1622 - val_accuracy: 0.9647\n",
            "Epoch 65/100\n",
            "155/155 [==============================] - 40s 258ms/step - loss: 0.0729 - accuracy: 0.9737 - val_loss: 0.1752 - val_accuracy: 0.9650\n",
            "Epoch 66/100\n",
            "155/155 [==============================] - 38s 242ms/step - loss: 0.0734 - accuracy: 0.9738 - val_loss: 0.1604 - val_accuracy: 0.9671\n",
            "Epoch 67/100\n",
            "155/155 [==============================] - 40s 258ms/step - loss: 0.0693 - accuracy: 0.9751 - val_loss: 0.1617 - val_accuracy: 0.9671\n",
            "Epoch 68/100\n",
            "155/155 [==============================] - 40s 258ms/step - loss: 0.0681 - accuracy: 0.9749 - val_loss: 0.1590 - val_accuracy: 0.9649\n",
            "Epoch 69/100\n",
            "155/155 [==============================] - 40s 258ms/step - loss: 0.0669 - accuracy: 0.9752 - val_loss: 0.1558 - val_accuracy: 0.9633\n",
            "Epoch 70/100\n",
            "155/155 [==============================] - 38s 244ms/step - loss: 0.0648 - accuracy: 0.9760 - val_loss: 0.1603 - val_accuracy: 0.9614\n",
            "Epoch 71/100\n",
            "155/155 [==============================] - 38s 242ms/step - loss: 0.0638 - accuracy: 0.9765 - val_loss: 0.1621 - val_accuracy: 0.9629\n",
            "Epoch 72/100\n",
            "155/155 [==============================] - 40s 260ms/step - loss: 0.0618 - accuracy: 0.9769 - val_loss: 0.1667 - val_accuracy: 0.9630\n",
            "Epoch 73/100\n",
            "155/155 [==============================] - 40s 258ms/step - loss: 0.0603 - accuracy: 0.9773 - val_loss: 0.1641 - val_accuracy: 0.9642\n",
            "Epoch 74/100\n",
            "155/155 [==============================] - 40s 259ms/step - loss: 0.0606 - accuracy: 0.9770 - val_loss: 0.1611 - val_accuracy: 0.9655\n",
            "Epoch 75/100\n",
            "155/155 [==============================] - 40s 258ms/step - loss: 0.0692 - accuracy: 0.9751 - val_loss: 0.1584 - val_accuracy: 0.9650\n",
            "Epoch 76/100\n",
            "155/155 [==============================] - 40s 260ms/step - loss: 0.0629 - accuracy: 0.9762 - val_loss: 0.1687 - val_accuracy: 0.9652\n",
            "Epoch 77/100\n",
            "155/155 [==============================] - 40s 258ms/step - loss: 0.0589 - accuracy: 0.9774 - val_loss: 0.1637 - val_accuracy: 0.9672\n",
            "Epoch 78/100\n",
            "155/155 [==============================] - 40s 259ms/step - loss: 0.0572 - accuracy: 0.9781 - val_loss: 0.1668 - val_accuracy: 0.9660\n",
            "Epoch 79/100\n",
            "155/155 [==============================] - 40s 259ms/step - loss: 0.0558 - accuracy: 0.9788 - val_loss: 0.1679 - val_accuracy: 0.9664\n",
            "Epoch 80/100\n",
            "155/155 [==============================] - 40s 258ms/step - loss: 0.0552 - accuracy: 0.9784 - val_loss: 0.1779 - val_accuracy: 0.9654\n",
            "Epoch 81/100\n",
            "155/155 [==============================] - 40s 258ms/step - loss: 0.0552 - accuracy: 0.9784 - val_loss: 0.1770 - val_accuracy: 0.9664\n",
            "Epoch 82/100\n",
            "155/155 [==============================] - 40s 257ms/step - loss: 0.0541 - accuracy: 0.9789 - val_loss: 0.1752 - val_accuracy: 0.9657\n",
            "Epoch 83/100\n",
            "155/155 [==============================] - 40s 260ms/step - loss: 0.0542 - accuracy: 0.9788 - val_loss: 0.1856 - val_accuracy: 0.9670\n",
            "Epoch 84/100\n",
            "155/155 [==============================] - 40s 257ms/step - loss: 0.0512 - accuracy: 0.9799 - val_loss: 0.1798 - val_accuracy: 0.9666\n",
            "Epoch 85/100\n",
            "155/155 [==============================] - 40s 259ms/step - loss: 0.0495 - accuracy: 0.9806 - val_loss: 0.1831 - val_accuracy: 0.9652\n",
            "Epoch 86/100\n",
            "155/155 [==============================] - 40s 258ms/step - loss: 0.0485 - accuracy: 0.9805 - val_loss: 0.1904 - val_accuracy: 0.9651\n",
            "Epoch 87/100\n",
            "155/155 [==============================] - 40s 260ms/step - loss: 0.0484 - accuracy: 0.9807 - val_loss: 0.1891 - val_accuracy: 0.9653\n",
            "Epoch 88/100\n",
            "155/155 [==============================] - 40s 257ms/step - loss: 0.0474 - accuracy: 0.9809 - val_loss: 0.1908 - val_accuracy: 0.9665\n",
            "Epoch 89/100\n",
            "155/155 [==============================] - 38s 245ms/step - loss: 0.0466 - accuracy: 0.9816 - val_loss: 0.2027 - val_accuracy: 0.9639\n",
            "Epoch 90/100\n",
            "155/155 [==============================] - 40s 257ms/step - loss: 0.0457 - accuracy: 0.9815 - val_loss: 0.1963 - val_accuracy: 0.9663\n",
            "Epoch 91/100\n",
            "155/155 [==============================] - 40s 257ms/step - loss: 0.0457 - accuracy: 0.9819 - val_loss: 0.1924 - val_accuracy: 0.9673\n",
            "Epoch 92/100\n",
            "155/155 [==============================] - 40s 257ms/step - loss: 0.0441 - accuracy: 0.9824 - val_loss: 0.1950 - val_accuracy: 0.9671\n",
            "Epoch 93/100\n",
            "155/155 [==============================] - 40s 258ms/step - loss: 0.0432 - accuracy: 0.9828 - val_loss: 0.2010 - val_accuracy: 0.9655\n",
            "Epoch 94/100\n",
            "155/155 [==============================] - 40s 259ms/step - loss: 0.0422 - accuracy: 0.9829 - val_loss: 0.1902 - val_accuracy: 0.9663\n",
            "Epoch 95/100\n",
            "155/155 [==============================] - 37s 241ms/step - loss: 0.0405 - accuracy: 0.9834 - val_loss: 0.1937 - val_accuracy: 0.9654\n",
            "Epoch 96/100\n",
            "155/155 [==============================] - 40s 259ms/step - loss: 0.0400 - accuracy: 0.9838 - val_loss: 0.1965 - val_accuracy: 0.9665\n",
            "Epoch 97/100\n",
            "155/155 [==============================] - 40s 257ms/step - loss: 0.0395 - accuracy: 0.9839 - val_loss: 0.1945 - val_accuracy: 0.9676\n",
            "Epoch 98/100\n",
            "155/155 [==============================] - 40s 259ms/step - loss: 0.0386 - accuracy: 0.9843 - val_loss: 0.1975 - val_accuracy: 0.9663\n",
            "Epoch 99/100\n",
            "155/155 [==============================] - 40s 258ms/step - loss: 0.0381 - accuracy: 0.9846 - val_loss: 0.1986 - val_accuracy: 0.9646\n",
            "Epoch 100/100\n",
            "155/155 [==============================] - 40s 260ms/step - loss: 0.0371 - accuracy: 0.9850 - val_loss: 0.1952 - val_accuracy: 0.9651\n"
          ]
        }
      ],
      "source": [
        "r2 = model2.fit(ds_train_encoded, epochs=100,validation_data=ds_val_encoded)"
      ]
    },
    {
      "cell_type": "markdown",
      "source": [
        "###Evaluating the Bert model"
      ],
      "metadata": {
        "id": "MMhSypUyeCot"
      }
    },
    {
      "cell_type": "code",
      "execution_count": 64,
      "metadata": {
        "id": "XiBWkBczgj1I",
        "colab": {
          "base_uri": "https://localhost:8080/"
        },
        "outputId": "a887276d-ec8d-4581-88c9-b0feaa5fc8e8"
      },
      "outputs": [
        {
          "output_type": "stream",
          "name": "stdout",
          "text": [
            "49/49 [==============================] - 4s 74ms/step - loss: 0.2096 - accuracy: 0.9624\n"
          ]
        },
        {
          "output_type": "execute_result",
          "data": {
            "text/plain": [
              "[0.20956753194332123, 0.9624025821685791]"
            ]
          },
          "metadata": {},
          "execution_count": 64
        }
      ],
      "source": [
        "model2.evaluate(ds_test_encoded)"
      ]
    },
    {
      "cell_type": "code",
      "execution_count": 65,
      "metadata": {
        "id": "hB0ljrQp6Tr6",
        "colab": {
          "base_uri": "https://localhost:8080/"
        },
        "outputId": "9a83f942-ad7b-4721-a944-cb8ed9b604db"
      },
      "outputs": [
        {
          "output_type": "stream",
          "name": "stdout",
          "text": [
            "49/49 [==============================] - 7s 74ms/step\n"
          ]
        }
      ],
      "source": [
        "label_pred = np.argmax(model2.predict(ds_test_encoded)['logits'], axis=-1)"
      ]
    },
    {
      "cell_type": "code",
      "execution_count": 66,
      "metadata": {
        "id": "56vaN9JR6Zvq",
        "colab": {
          "base_uri": "https://localhost:8080/"
        },
        "outputId": "7d7008a6-4612-490d-d60e-6d0f19e94c75"
      },
      "outputs": [
        {
          "output_type": "stream",
          "name": "stdout",
          "text": [
            "              precision    recall  f1-score   support\n",
            "\n",
            "           0       1.00      1.00      1.00     39190\n",
            "           1       0.83      0.91      0.87      5484\n",
            "           2       0.26      0.24      0.25       425\n",
            "           3       0.12      0.05      0.07       283\n",
            "           4       0.12      0.11      0.12        65\n",
            "           5       0.10      0.06      0.07       117\n",
            "           6       0.14      0.11      0.12        92\n",
            "           7       0.11      0.03      0.05        69\n",
            "           8       0.29      0.13      0.18       104\n",
            "           9       0.08      0.04      0.05       105\n",
            "\n",
            "    accuracy                           0.96     45934\n",
            "   macro avg       0.30      0.27      0.28     45934\n",
            "weighted avg       0.96      0.96      0.96     45934\n",
            "\n"
          ]
        }
      ],
      "source": [
        "print(classification_report(label_test.flatten(), label_pred.flatten()))"
      ]
    },
    {
      "cell_type": "code",
      "execution_count": 68,
      "metadata": {
        "id": "w158ruZQCrD2"
      },
      "outputs": [],
      "source": [
        "# Save the model to a directory\n",
        "output_dir = 'Bert_model'\n",
        "model2.save_pretrained(output_dir)"
      ]
    }
  ],
  "metadata": {
    "accelerator": "GPU",
    "colab": {
      "provenance": []
    },
    "kernelspec": {
      "display_name": "Python 3",
      "name": "python3"
    },
    "language_info": {
      "name": "python"
    },
    "widgets": {
      "application/vnd.jupyter.widget-state+json": {
        "cf95df4881824e8f9a7bf8a196ee55af": {
          "model_module": "@jupyter-widgets/controls",
          "model_name": "HBoxModel",
          "model_module_version": "1.5.0",
          "state": {
            "_dom_classes": [],
            "_model_module": "@jupyter-widgets/controls",
            "_model_module_version": "1.5.0",
            "_model_name": "HBoxModel",
            "_view_count": null,
            "_view_module": "@jupyter-widgets/controls",
            "_view_module_version": "1.5.0",
            "_view_name": "HBoxView",
            "box_style": "",
            "children": [
              "IPY_MODEL_56d46e52aa8a4f91862ce8dd615d3692",
              "IPY_MODEL_60424c99b03f43c8bf547826a46ba310",
              "IPY_MODEL_c81486c7aef84f9884f2b720749a5296"
            ],
            "layout": "IPY_MODEL_7d70e7eaaee94b2fb9b2a71b8bffff72"
          }
        },
        "56d46e52aa8a4f91862ce8dd615d3692": {
          "model_module": "@jupyter-widgets/controls",
          "model_name": "HTMLModel",
          "model_module_version": "1.5.0",
          "state": {
            "_dom_classes": [],
            "_model_module": "@jupyter-widgets/controls",
            "_model_module_version": "1.5.0",
            "_model_name": "HTMLModel",
            "_view_count": null,
            "_view_module": "@jupyter-widgets/controls",
            "_view_module_version": "1.5.0",
            "_view_name": "HTMLView",
            "description": "",
            "description_tooltip": null,
            "layout": "IPY_MODEL_46d12754bd04451fa541639e14f7ac2c",
            "placeholder": "​",
            "style": "IPY_MODEL_b3f977cfebe54931be6351aefa3d4bfc",
            "value": "config.json: 100%"
          }
        },
        "60424c99b03f43c8bf547826a46ba310": {
          "model_module": "@jupyter-widgets/controls",
          "model_name": "FloatProgressModel",
          "model_module_version": "1.5.0",
          "state": {
            "_dom_classes": [],
            "_model_module": "@jupyter-widgets/controls",
            "_model_module_version": "1.5.0",
            "_model_name": "FloatProgressModel",
            "_view_count": null,
            "_view_module": "@jupyter-widgets/controls",
            "_view_module_version": "1.5.0",
            "_view_name": "ProgressView",
            "bar_style": "success",
            "description": "",
            "description_tooltip": null,
            "layout": "IPY_MODEL_b5d412c3717b4f73a3f22a672b6e31bd",
            "max": 1046,
            "min": 0,
            "orientation": "horizontal",
            "style": "IPY_MODEL_df255281aa934d3dbef2777022806f14",
            "value": 1046
          }
        },
        "c81486c7aef84f9884f2b720749a5296": {
          "model_module": "@jupyter-widgets/controls",
          "model_name": "HTMLModel",
          "model_module_version": "1.5.0",
          "state": {
            "_dom_classes": [],
            "_model_module": "@jupyter-widgets/controls",
            "_model_module_version": "1.5.0",
            "_model_name": "HTMLModel",
            "_view_count": null,
            "_view_module": "@jupyter-widgets/controls",
            "_view_module_version": "1.5.0",
            "_view_name": "HTMLView",
            "description": "",
            "description_tooltip": null,
            "layout": "IPY_MODEL_fd04e63b9b4a4850af8c6f99587afbc8",
            "placeholder": "​",
            "style": "IPY_MODEL_cc6bb1c4506649b5b283a9445f7d83ee",
            "value": " 1.05k/1.05k [00:00&lt;00:00, 72.4kB/s]"
          }
        },
        "7d70e7eaaee94b2fb9b2a71b8bffff72": {
          "model_module": "@jupyter-widgets/base",
          "model_name": "LayoutModel",
          "model_module_version": "1.2.0",
          "state": {
            "_model_module": "@jupyter-widgets/base",
            "_model_module_version": "1.2.0",
            "_model_name": "LayoutModel",
            "_view_count": null,
            "_view_module": "@jupyter-widgets/base",
            "_view_module_version": "1.2.0",
            "_view_name": "LayoutView",
            "align_content": null,
            "align_items": null,
            "align_self": null,
            "border": null,
            "bottom": null,
            "display": null,
            "flex": null,
            "flex_flow": null,
            "grid_area": null,
            "grid_auto_columns": null,
            "grid_auto_flow": null,
            "grid_auto_rows": null,
            "grid_column": null,
            "grid_gap": null,
            "grid_row": null,
            "grid_template_areas": null,
            "grid_template_columns": null,
            "grid_template_rows": null,
            "height": null,
            "justify_content": null,
            "justify_items": null,
            "left": null,
            "margin": null,
            "max_height": null,
            "max_width": null,
            "min_height": null,
            "min_width": null,
            "object_fit": null,
            "object_position": null,
            "order": null,
            "overflow": null,
            "overflow_x": null,
            "overflow_y": null,
            "padding": null,
            "right": null,
            "top": null,
            "visibility": null,
            "width": null
          }
        },
        "46d12754bd04451fa541639e14f7ac2c": {
          "model_module": "@jupyter-widgets/base",
          "model_name": "LayoutModel",
          "model_module_version": "1.2.0",
          "state": {
            "_model_module": "@jupyter-widgets/base",
            "_model_module_version": "1.2.0",
            "_model_name": "LayoutModel",
            "_view_count": null,
            "_view_module": "@jupyter-widgets/base",
            "_view_module_version": "1.2.0",
            "_view_name": "LayoutView",
            "align_content": null,
            "align_items": null,
            "align_self": null,
            "border": null,
            "bottom": null,
            "display": null,
            "flex": null,
            "flex_flow": null,
            "grid_area": null,
            "grid_auto_columns": null,
            "grid_auto_flow": null,
            "grid_auto_rows": null,
            "grid_column": null,
            "grid_gap": null,
            "grid_row": null,
            "grid_template_areas": null,
            "grid_template_columns": null,
            "grid_template_rows": null,
            "height": null,
            "justify_content": null,
            "justify_items": null,
            "left": null,
            "margin": null,
            "max_height": null,
            "max_width": null,
            "min_height": null,
            "min_width": null,
            "object_fit": null,
            "object_position": null,
            "order": null,
            "overflow": null,
            "overflow_x": null,
            "overflow_y": null,
            "padding": null,
            "right": null,
            "top": null,
            "visibility": null,
            "width": null
          }
        },
        "b3f977cfebe54931be6351aefa3d4bfc": {
          "model_module": "@jupyter-widgets/controls",
          "model_name": "DescriptionStyleModel",
          "model_module_version": "1.5.0",
          "state": {
            "_model_module": "@jupyter-widgets/controls",
            "_model_module_version": "1.5.0",
            "_model_name": "DescriptionStyleModel",
            "_view_count": null,
            "_view_module": "@jupyter-widgets/base",
            "_view_module_version": "1.2.0",
            "_view_name": "StyleView",
            "description_width": ""
          }
        },
        "b5d412c3717b4f73a3f22a672b6e31bd": {
          "model_module": "@jupyter-widgets/base",
          "model_name": "LayoutModel",
          "model_module_version": "1.2.0",
          "state": {
            "_model_module": "@jupyter-widgets/base",
            "_model_module_version": "1.2.0",
            "_model_name": "LayoutModel",
            "_view_count": null,
            "_view_module": "@jupyter-widgets/base",
            "_view_module_version": "1.2.0",
            "_view_name": "LayoutView",
            "align_content": null,
            "align_items": null,
            "align_self": null,
            "border": null,
            "bottom": null,
            "display": null,
            "flex": null,
            "flex_flow": null,
            "grid_area": null,
            "grid_auto_columns": null,
            "grid_auto_flow": null,
            "grid_auto_rows": null,
            "grid_column": null,
            "grid_gap": null,
            "grid_row": null,
            "grid_template_areas": null,
            "grid_template_columns": null,
            "grid_template_rows": null,
            "height": null,
            "justify_content": null,
            "justify_items": null,
            "left": null,
            "margin": null,
            "max_height": null,
            "max_width": null,
            "min_height": null,
            "min_width": null,
            "object_fit": null,
            "object_position": null,
            "order": null,
            "overflow": null,
            "overflow_x": null,
            "overflow_y": null,
            "padding": null,
            "right": null,
            "top": null,
            "visibility": null,
            "width": null
          }
        },
        "df255281aa934d3dbef2777022806f14": {
          "model_module": "@jupyter-widgets/controls",
          "model_name": "ProgressStyleModel",
          "model_module_version": "1.5.0",
          "state": {
            "_model_module": "@jupyter-widgets/controls",
            "_model_module_version": "1.5.0",
            "_model_name": "ProgressStyleModel",
            "_view_count": null,
            "_view_module": "@jupyter-widgets/base",
            "_view_module_version": "1.2.0",
            "_view_name": "StyleView",
            "bar_color": null,
            "description_width": ""
          }
        },
        "fd04e63b9b4a4850af8c6f99587afbc8": {
          "model_module": "@jupyter-widgets/base",
          "model_name": "LayoutModel",
          "model_module_version": "1.2.0",
          "state": {
            "_model_module": "@jupyter-widgets/base",
            "_model_module_version": "1.2.0",
            "_model_name": "LayoutModel",
            "_view_count": null,
            "_view_module": "@jupyter-widgets/base",
            "_view_module_version": "1.2.0",
            "_view_name": "LayoutView",
            "align_content": null,
            "align_items": null,
            "align_self": null,
            "border": null,
            "bottom": null,
            "display": null,
            "flex": null,
            "flex_flow": null,
            "grid_area": null,
            "grid_auto_columns": null,
            "grid_auto_flow": null,
            "grid_auto_rows": null,
            "grid_column": null,
            "grid_gap": null,
            "grid_row": null,
            "grid_template_areas": null,
            "grid_template_columns": null,
            "grid_template_rows": null,
            "height": null,
            "justify_content": null,
            "justify_items": null,
            "left": null,
            "margin": null,
            "max_height": null,
            "max_width": null,
            "min_height": null,
            "min_width": null,
            "object_fit": null,
            "object_position": null,
            "order": null,
            "overflow": null,
            "overflow_x": null,
            "overflow_y": null,
            "padding": null,
            "right": null,
            "top": null,
            "visibility": null,
            "width": null
          }
        },
        "cc6bb1c4506649b5b283a9445f7d83ee": {
          "model_module": "@jupyter-widgets/controls",
          "model_name": "DescriptionStyleModel",
          "model_module_version": "1.5.0",
          "state": {
            "_model_module": "@jupyter-widgets/controls",
            "_model_module_version": "1.5.0",
            "_model_name": "DescriptionStyleModel",
            "_view_count": null,
            "_view_module": "@jupyter-widgets/base",
            "_view_module_version": "1.2.0",
            "_view_name": "StyleView",
            "description_width": ""
          }
        },
        "72406e9924184822a48ccdb08a136fa3": {
          "model_module": "@jupyter-widgets/controls",
          "model_name": "HBoxModel",
          "model_module_version": "1.5.0",
          "state": {
            "_dom_classes": [],
            "_model_module": "@jupyter-widgets/controls",
            "_model_module_version": "1.5.0",
            "_model_name": "HBoxModel",
            "_view_count": null,
            "_view_module": "@jupyter-widgets/controls",
            "_view_module_version": "1.5.0",
            "_view_name": "HBoxView",
            "box_style": "",
            "children": [
              "IPY_MODEL_6306377afb2f41c88d25b69c44a2ea86",
              "IPY_MODEL_705e24aea6fd417a8bfe2c0eaeaa44fd",
              "IPY_MODEL_e6e585df8cc9447a9ae74214ff2c9afc"
            ],
            "layout": "IPY_MODEL_b09d9dda8f9c4d0caa36561f4995e967"
          }
        },
        "6306377afb2f41c88d25b69c44a2ea86": {
          "model_module": "@jupyter-widgets/controls",
          "model_name": "HTMLModel",
          "model_module_version": "1.5.0",
          "state": {
            "_dom_classes": [],
            "_model_module": "@jupyter-widgets/controls",
            "_model_module_version": "1.5.0",
            "_model_name": "HTMLModel",
            "_view_count": null,
            "_view_module": "@jupyter-widgets/controls",
            "_view_module_version": "1.5.0",
            "_view_name": "HTMLView",
            "description": "",
            "description_tooltip": null,
            "layout": "IPY_MODEL_ffe875e2f8894e1d8bb33cde59821a11",
            "placeholder": "​",
            "style": "IPY_MODEL_361a9c961fe24bf09831d56ff914f83f",
            "value": "pytorch_model.bin: 100%"
          }
        },
        "705e24aea6fd417a8bfe2c0eaeaa44fd": {
          "model_module": "@jupyter-widgets/controls",
          "model_name": "FloatProgressModel",
          "model_module_version": "1.5.0",
          "state": {
            "_dom_classes": [],
            "_model_module": "@jupyter-widgets/controls",
            "_model_module_version": "1.5.0",
            "_model_name": "FloatProgressModel",
            "_view_count": null,
            "_view_module": "@jupyter-widgets/controls",
            "_view_module_version": "1.5.0",
            "_view_name": "ProgressView",
            "bar_style": "success",
            "description": "",
            "description_tooltip": null,
            "layout": "IPY_MODEL_d2cce06e6ed6489688afefb825acb74f",
            "max": 538513901,
            "min": 0,
            "orientation": "horizontal",
            "style": "IPY_MODEL_fa3c3f9d40514c45bd5f9e6af7500926",
            "value": 538513901
          }
        },
        "e6e585df8cc9447a9ae74214ff2c9afc": {
          "model_module": "@jupyter-widgets/controls",
          "model_name": "HTMLModel",
          "model_module_version": "1.5.0",
          "state": {
            "_dom_classes": [],
            "_model_module": "@jupyter-widgets/controls",
            "_model_module_version": "1.5.0",
            "_model_name": "HTMLModel",
            "_view_count": null,
            "_view_module": "@jupyter-widgets/controls",
            "_view_module_version": "1.5.0",
            "_view_name": "HTMLView",
            "description": "",
            "description_tooltip": null,
            "layout": "IPY_MODEL_e360797a9b674cef982304daea3f4506",
            "placeholder": "​",
            "style": "IPY_MODEL_8666a4a41e4848178decc84d613d595e",
            "value": " 539M/539M [00:05&lt;00:00, 148MB/s]"
          }
        },
        "b09d9dda8f9c4d0caa36561f4995e967": {
          "model_module": "@jupyter-widgets/base",
          "model_name": "LayoutModel",
          "model_module_version": "1.2.0",
          "state": {
            "_model_module": "@jupyter-widgets/base",
            "_model_module_version": "1.2.0",
            "_model_name": "LayoutModel",
            "_view_count": null,
            "_view_module": "@jupyter-widgets/base",
            "_view_module_version": "1.2.0",
            "_view_name": "LayoutView",
            "align_content": null,
            "align_items": null,
            "align_self": null,
            "border": null,
            "bottom": null,
            "display": null,
            "flex": null,
            "flex_flow": null,
            "grid_area": null,
            "grid_auto_columns": null,
            "grid_auto_flow": null,
            "grid_auto_rows": null,
            "grid_column": null,
            "grid_gap": null,
            "grid_row": null,
            "grid_template_areas": null,
            "grid_template_columns": null,
            "grid_template_rows": null,
            "height": null,
            "justify_content": null,
            "justify_items": null,
            "left": null,
            "margin": null,
            "max_height": null,
            "max_width": null,
            "min_height": null,
            "min_width": null,
            "object_fit": null,
            "object_position": null,
            "order": null,
            "overflow": null,
            "overflow_x": null,
            "overflow_y": null,
            "padding": null,
            "right": null,
            "top": null,
            "visibility": null,
            "width": null
          }
        },
        "ffe875e2f8894e1d8bb33cde59821a11": {
          "model_module": "@jupyter-widgets/base",
          "model_name": "LayoutModel",
          "model_module_version": "1.2.0",
          "state": {
            "_model_module": "@jupyter-widgets/base",
            "_model_module_version": "1.2.0",
            "_model_name": "LayoutModel",
            "_view_count": null,
            "_view_module": "@jupyter-widgets/base",
            "_view_module_version": "1.2.0",
            "_view_name": "LayoutView",
            "align_content": null,
            "align_items": null,
            "align_self": null,
            "border": null,
            "bottom": null,
            "display": null,
            "flex": null,
            "flex_flow": null,
            "grid_area": null,
            "grid_auto_columns": null,
            "grid_auto_flow": null,
            "grid_auto_rows": null,
            "grid_column": null,
            "grid_gap": null,
            "grid_row": null,
            "grid_template_areas": null,
            "grid_template_columns": null,
            "grid_template_rows": null,
            "height": null,
            "justify_content": null,
            "justify_items": null,
            "left": null,
            "margin": null,
            "max_height": null,
            "max_width": null,
            "min_height": null,
            "min_width": null,
            "object_fit": null,
            "object_position": null,
            "order": null,
            "overflow": null,
            "overflow_x": null,
            "overflow_y": null,
            "padding": null,
            "right": null,
            "top": null,
            "visibility": null,
            "width": null
          }
        },
        "361a9c961fe24bf09831d56ff914f83f": {
          "model_module": "@jupyter-widgets/controls",
          "model_name": "DescriptionStyleModel",
          "model_module_version": "1.5.0",
          "state": {
            "_model_module": "@jupyter-widgets/controls",
            "_model_module_version": "1.5.0",
            "_model_name": "DescriptionStyleModel",
            "_view_count": null,
            "_view_module": "@jupyter-widgets/base",
            "_view_module_version": "1.2.0",
            "_view_name": "StyleView",
            "description_width": ""
          }
        },
        "d2cce06e6ed6489688afefb825acb74f": {
          "model_module": "@jupyter-widgets/base",
          "model_name": "LayoutModel",
          "model_module_version": "1.2.0",
          "state": {
            "_model_module": "@jupyter-widgets/base",
            "_model_module_version": "1.2.0",
            "_model_name": "LayoutModel",
            "_view_count": null,
            "_view_module": "@jupyter-widgets/base",
            "_view_module_version": "1.2.0",
            "_view_name": "LayoutView",
            "align_content": null,
            "align_items": null,
            "align_self": null,
            "border": null,
            "bottom": null,
            "display": null,
            "flex": null,
            "flex_flow": null,
            "grid_area": null,
            "grid_auto_columns": null,
            "grid_auto_flow": null,
            "grid_auto_rows": null,
            "grid_column": null,
            "grid_gap": null,
            "grid_row": null,
            "grid_template_areas": null,
            "grid_template_columns": null,
            "grid_template_rows": null,
            "height": null,
            "justify_content": null,
            "justify_items": null,
            "left": null,
            "margin": null,
            "max_height": null,
            "max_width": null,
            "min_height": null,
            "min_width": null,
            "object_fit": null,
            "object_position": null,
            "order": null,
            "overflow": null,
            "overflow_x": null,
            "overflow_y": null,
            "padding": null,
            "right": null,
            "top": null,
            "visibility": null,
            "width": null
          }
        },
        "fa3c3f9d40514c45bd5f9e6af7500926": {
          "model_module": "@jupyter-widgets/controls",
          "model_name": "ProgressStyleModel",
          "model_module_version": "1.5.0",
          "state": {
            "_model_module": "@jupyter-widgets/controls",
            "_model_module_version": "1.5.0",
            "_model_name": "ProgressStyleModel",
            "_view_count": null,
            "_view_module": "@jupyter-widgets/base",
            "_view_module_version": "1.2.0",
            "_view_name": "StyleView",
            "bar_color": null,
            "description_width": ""
          }
        },
        "e360797a9b674cef982304daea3f4506": {
          "model_module": "@jupyter-widgets/base",
          "model_name": "LayoutModel",
          "model_module_version": "1.2.0",
          "state": {
            "_model_module": "@jupyter-widgets/base",
            "_model_module_version": "1.2.0",
            "_model_name": "LayoutModel",
            "_view_count": null,
            "_view_module": "@jupyter-widgets/base",
            "_view_module_version": "1.2.0",
            "_view_name": "LayoutView",
            "align_content": null,
            "align_items": null,
            "align_self": null,
            "border": null,
            "bottom": null,
            "display": null,
            "flex": null,
            "flex_flow": null,
            "grid_area": null,
            "grid_auto_columns": null,
            "grid_auto_flow": null,
            "grid_auto_rows": null,
            "grid_column": null,
            "grid_gap": null,
            "grid_row": null,
            "grid_template_areas": null,
            "grid_template_columns": null,
            "grid_template_rows": null,
            "height": null,
            "justify_content": null,
            "justify_items": null,
            "left": null,
            "margin": null,
            "max_height": null,
            "max_width": null,
            "min_height": null,
            "min_width": null,
            "object_fit": null,
            "object_position": null,
            "order": null,
            "overflow": null,
            "overflow_x": null,
            "overflow_y": null,
            "padding": null,
            "right": null,
            "top": null,
            "visibility": null,
            "width": null
          }
        },
        "8666a4a41e4848178decc84d613d595e": {
          "model_module": "@jupyter-widgets/controls",
          "model_name": "DescriptionStyleModel",
          "model_module_version": "1.5.0",
          "state": {
            "_model_module": "@jupyter-widgets/controls",
            "_model_module_version": "1.5.0",
            "_model_name": "DescriptionStyleModel",
            "_view_count": null,
            "_view_module": "@jupyter-widgets/base",
            "_view_module_version": "1.2.0",
            "_view_name": "StyleView",
            "description_width": ""
          }
        }
      }
    }
  },
  "nbformat": 4,
  "nbformat_minor": 0
}